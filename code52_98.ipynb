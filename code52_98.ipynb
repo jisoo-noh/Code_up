{
  "nbformat": 4,
  "nbformat_minor": 0,
  "metadata": {
    "colab": {
      "provenance": [],
      "collapsed_sections": [],
      "authorship_tag": "ABX9TyPgg47j5PCrD8JQRa/OPYWh",
      "include_colab_link": true
    },
    "kernelspec": {
      "name": "python3",
      "display_name": "Python 3"
    },
    "language_info": {
      "name": "python"
    }
  },
  "cells": [
    {
      "cell_type": "markdown",
      "metadata": {
        "id": "view-in-github",
        "colab_type": "text"
      },
      "source": [
        "<a href=\"https://colab.research.google.com/github/jisoo-noh/Code_up/blob/main/code52_98.ipynb\" target=\"_parent\"><img src=\"https://colab.research.google.com/assets/colab-badge.svg\" alt=\"Open In Colab\"/></a>"
      ]
    },
    {
      "cell_type": "code",
      "execution_count": null,
      "metadata": {
        "colab": {
          "base_uri": "https://localhost:8080/"
        },
        "id": "Yuj-E6gw8kdz",
        "outputId": "9bab06a2-0fbe-4af9-de7f-0a7e14d60a0b"
      },
      "outputs": [
        {
          "output_type": "stream",
          "name": "stdout",
          "text": [
            "0\n",
            "False\n"
          ]
        }
      ],
      "source": [
        "# 6052 : [기초-논리연산] 정수 입력받아 참 거짓 평가하기(설명)(py)\n",
        "# 입력된 값이 0이면 False, 0이 아니면 True\n",
        "n = int(input())\n",
        "print(bool(n))"
      ]
    },
    {
      "cell_type": "code",
      "source": [
        "# 6053 : [기초-논리연산] 참 거짓 바꾸기(설명)(py)\n",
        "a = bool(int(input()))\n",
        "print(not a)"
      ],
      "metadata": {
        "colab": {
          "base_uri": "https://localhost:8080/"
        },
        "id": "UDaD5UcH88QQ",
        "outputId": "f706c00c-d308-4d56-8ef8-0da18ad550e5"
      },
      "execution_count": null,
      "outputs": [
        {
          "output_type": "stream",
          "name": "stdout",
          "text": [
            "1\n",
            "False\n"
          ]
        }
      ]
    },
    {
      "cell_type": "code",
      "source": [
        "# 6054 : [기초-논리연산] 둘 다 참일 경우만 참 출력하기(설명)(py)\n",
        "# 둘 다 True 일 경우에만 True 를 출력하고, 그 외의 경우에는 False\n",
        "a,b = map(int, input().split())\n",
        "print(bool(a) and bool(b))"
      ],
      "metadata": {
        "colab": {
          "base_uri": "https://localhost:8080/"
        },
        "id": "Zv6DrsYW_kyj",
        "outputId": "0cb29203-e445-408c-9e04-f9700d466cfb"
      },
      "execution_count": null,
      "outputs": [
        {
          "output_type": "stream",
          "name": "stdout",
          "text": [
            "1 1\n",
            "True\n"
          ]
        }
      ]
    },
    {
      "cell_type": "code",
      "source": [
        "# 6055 : [기초-논리연산] 하나라도 참이면 참 출력하기(설명)(py)\n",
        "# 하나라도 참일 경우 True 를 출력하고, 그 외의 경우에는 False\n",
        "a,b = map(int, input().split())\n",
        "print(bool(a) or bool(b))"
      ],
      "metadata": {
        "colab": {
          "base_uri": "https://localhost:8080/"
        },
        "id": "ydh7sKsH_xCX",
        "outputId": "9944a146-9342-45af-e005-3d11f5850b18"
      },
      "execution_count": null,
      "outputs": [
        {
          "output_type": "stream",
          "name": "stdout",
          "text": [
            "1 0 \n",
            "True\n"
          ]
        }
      ]
    },
    {
      "cell_type": "code",
      "source": [
        "# 6056 : [기초-논리연산] 참/거짓이 서로 다를 때에만 참 출력하기(설명)(py)\n",
        "# 두 값의 결과가 다를 경우만 True 를 출력하고, 그 외의 경우에는 False \n",
        "# 표 작성하기\n",
        "a,b = map(int, input().split())\n",
        "c = bool(a)\n",
        "d = bool(b)\n",
        "print((c and not d) or (not c and d))"
      ],
      "metadata": {
        "colab": {
          "base_uri": "https://localhost:8080/"
        },
        "id": "aP_Eb5eoI91Y",
        "outputId": "d26c55ab-d2b7-4fc7-8eab-a0482ce47d1e"
      },
      "execution_count": null,
      "outputs": [
        {
          "output_type": "stream",
          "name": "stdout",
          "text": [
            "1 1 \n",
            "False\n"
          ]
        }
      ]
    },
    {
      "cell_type": "code",
      "source": [
        "# 6057 : [기초-논리연산] 참/거짓이 서로 같을 때에만 참 출력하기(설명)(py)\n",
        "# 두 값의 결과가 서로 같을 경우만 True 를 출력하고, 그 외의 경우에는 False\n",
        "# 표 작성하기 \n",
        "a,b = map(int, input().split())\n",
        "c = bool(a)\n",
        "d = bool(b)\n",
        "print((c and d) or (not c and not d))"
      ],
      "metadata": {
        "colab": {
          "base_uri": "https://localhost:8080/"
        },
        "id": "Vel1owu8KAOS",
        "outputId": "49c8551a-220b-4e94-8383-dbd05bec7a74"
      },
      "execution_count": null,
      "outputs": [
        {
          "output_type": "stream",
          "name": "stdout",
          "text": [
            "0 1\n",
            "False\n"
          ]
        }
      ]
    },
    {
      "cell_type": "code",
      "source": [
        "# 6058 : [기초-논리연산] 둘 다 거짓일 경우만 참 출력하기(py)\n",
        "# 두 값의 결과가 모두 False 일 때만 True 를 출력하고, 그 외의 경우에는 False \n",
        "# 표 작성하기\n",
        "a,b = map(int, input().split())\n",
        "print(not bool(a) and not bool(b))"
      ],
      "metadata": {
        "colab": {
          "base_uri": "https://localhost:8080/"
        },
        "id": "qH1zqYN8KrLE",
        "outputId": "c0ab0938-8350-45fe-9178-9e990bad835e"
      },
      "execution_count": null,
      "outputs": [
        {
          "output_type": "stream",
          "name": "stdout",
          "text": [
            "0 0 \n",
            "True\n"
          ]
        }
      ]
    },
    {
      "cell_type": "code",
      "source": [
        "a,b = map(int, input().split())\n",
        "print(not (bool(a) or bool(b)))"
      ],
      "metadata": {
        "colab": {
          "base_uri": "https://localhost:8080/"
        },
        "id": "_qNwR6tILNte",
        "outputId": "9837128c-d704-4d20-cd8b-04932cc31360"
      },
      "execution_count": null,
      "outputs": [
        {
          "output_type": "stream",
          "name": "stdout",
          "text": [
            "0 1\n",
            "False\n"
          ]
        }
      ]
    },
    {
      "cell_type": "code",
      "source": [
        "# 6059 : [기초-비트단위논리연산] 비트단위로 NOT 하여 출력하기(설명)(py)\n",
        "# 비트단위 연산자 not '~'\n",
        "n = int(input())\n",
        "print(~n)  # ~n = -n - 1"
      ],
      "metadata": {
        "colab": {
          "base_uri": "https://localhost:8080/"
        },
        "id": "60zJsYcbLipT",
        "outputId": "f6601292-26e8-4bb9-b41b-bad04fd6f427"
      },
      "execution_count": null,
      "outputs": [
        {
          "output_type": "stream",
          "name": "stdout",
          "text": [
            "2\n",
            "-3\n"
          ]
        }
      ]
    },
    {
      "cell_type": "code",
      "source": [
        "# 6060 : [기초-비트단위논리연산] 비트단위로 AND 하여 출력하기(설명)(py)\n",
        "# 비트단위 연산자 and '&'\n",
        "a,b = map(int, input().split())\n",
        "print(a&b)"
      ],
      "metadata": {
        "colab": {
          "base_uri": "https://localhost:8080/"
        },
        "id": "u-KBnWjAQe44",
        "outputId": "79b7b98e-6faf-4395-b1d5-af5986190b12"
      },
      "execution_count": null,
      "outputs": [
        {
          "output_type": "stream",
          "name": "stdout",
          "text": [
            "3 5\n",
            "1\n"
          ]
        }
      ]
    },
    {
      "cell_type": "code",
      "source": [
        "# 6061 : [기초-비트단위논리연산] 비트단위로 OR 하여 출력하기(설명)(py)\n",
        "# 비트단위 연산자 or '|'\n",
        "a,b = map(int, input().split())\n",
        "print(a|b)"
      ],
      "metadata": {
        "colab": {
          "base_uri": "https://localhost:8080/"
        },
        "id": "l4I9RFEyRGsY",
        "outputId": "c986c89b-1066-49f5-ca3d-8860e74eb812"
      },
      "execution_count": null,
      "outputs": [
        {
          "output_type": "stream",
          "name": "stdout",
          "text": [
            "3 5\n",
            "7\n"
          ]
        }
      ]
    },
    {
      "cell_type": "code",
      "source": [
        "# 6062 : [기초-비트단위논리연산] 비트단위로 XOR 하여 출력하기(설명)(py)\n",
        "# 비트단위 연산자 xor '^'\n",
        "a,b = map(int, input().split())\n",
        "print(a^b)"
      ],
      "metadata": {
        "colab": {
          "base_uri": "https://localhost:8080/"
        },
        "id": "fcJBO0SYRcDi",
        "outputId": "0ee7ba28-2bfe-4afe-8434-ec52f761ef81"
      },
      "execution_count": null,
      "outputs": [
        {
          "output_type": "stream",
          "name": "stdout",
          "text": [
            "3 5 \n",
            "6\n"
          ]
        }
      ]
    },
    {
      "cell_type": "code",
      "source": [
        "# 6063 : [기초-3항연산] 정수 2개 입력받아 큰 값 출력하기(설명)(py)\n",
        "num = list(map(int, input().split()))\n",
        "print(max(num))"
      ],
      "metadata": {
        "colab": {
          "base_uri": "https://localhost:8080/"
        },
        "id": "WADmDywbRe0F",
        "outputId": "64621767-22d4-4d0a-d38d-34def960b5d6"
      },
      "execution_count": null,
      "outputs": [
        {
          "output_type": "stream",
          "name": "stdout",
          "text": [
            "123 456\n",
            "456\n"
          ]
        }
      ]
    },
    {
      "cell_type": "code",
      "source": [
        "a,b = map(int, input().split())\n",
        "print(a if a>b else b)"
      ],
      "metadata": {
        "colab": {
          "base_uri": "https://localhost:8080/"
        },
        "id": "XUdgPmJjSQ2L",
        "outputId": "2a1cb871-78f8-4458-ea42-4eb6733a0d76"
      },
      "execution_count": null,
      "outputs": [
        {
          "output_type": "stream",
          "name": "stdout",
          "text": [
            "123 456\n",
            "456\n"
          ]
        }
      ]
    },
    {
      "cell_type": "code",
      "source": [
        "# 6064 : [기초-3항연산] 정수 3개 입력받아 가장 작은 값 출력하기(설명)(py)\n",
        "num = list(map(int, input().split()))\n",
        "print(min(num))"
      ],
      "metadata": {
        "id": "9Lb04lNFSFUd"
      },
      "execution_count": null,
      "outputs": []
    },
    {
      "cell_type": "code",
      "source": [
        "a,b,c = map(int, input().split())\n",
        "if (a if a<b else b) < c:\n",
        "    print(a if a<b else b)\n",
        "else:\n",
        "    print(c)"
      ],
      "metadata": {
        "colab": {
          "base_uri": "https://localhost:8080/"
        },
        "id": "nEagEHbkR20P",
        "outputId": "6def2b06-9dc5-4a67-b502-e52381f55120"
      },
      "execution_count": null,
      "outputs": [
        {
          "output_type": "stream",
          "name": "stdout",
          "text": [
            "3 -1 5\n",
            "-1\n"
          ]
        }
      ]
    },
    {
      "cell_type": "code",
      "source": [
        "# 6065 : [기초-조건/선택실행구조] 정수 3개 입력받아 짝수만 출력하기(설명)(py)\n",
        "a,b,c = map(int, input().split())\n",
        "if a%2 == 0:\n",
        "    print(a)\n",
        "if b%2 == 0:\n",
        "    print(b)\n",
        "if c%2 == 0:\n",
        "    print(c)"
      ],
      "metadata": {
        "colab": {
          "base_uri": "https://localhost:8080/"
        },
        "id": "rHEMDyL0SOnC",
        "outputId": "cff0f27d-a314-4c82-d0f3-cbc97398fa12"
      },
      "execution_count": null,
      "outputs": [
        {
          "output_type": "stream",
          "name": "stdout",
          "text": [
            "1 2 4\n",
            "2\n",
            "4\n"
          ]
        }
      ]
    },
    {
      "cell_type": "code",
      "source": [
        "# 6066 : [기초-조건/선택실행구조] 정수 3개 입력받아 짝/홀 출력하기(설명)(py)\n",
        "a,b,c = map(int, input().split())\n",
        "print('even' if a%2 == 0 else 'odd')\n",
        "print('even' if b%2 == 0 else 'odd')\n",
        "print('even' if c%2 == 0 else 'odd')"
      ],
      "metadata": {
        "colab": {
          "base_uri": "https://localhost:8080/"
        },
        "id": "i9nMf2qSTbFD",
        "outputId": "7a5e8e27-b1ef-48b9-ab87-274badfbfa7c"
      },
      "execution_count": null,
      "outputs": [
        {
          "output_type": "stream",
          "name": "stdout",
          "text": [
            "1 2 8\n",
            "odd\n",
            "even\n",
            "even\n"
          ]
        }
      ]
    },
    {
      "cell_type": "code",
      "source": [
        "# 6067 : [기초-조건/선택실행구조] 정수 1개 입력받아 분류하기(설명)(py)\n",
        "n = int(input())\n",
        "if n < 0:\n",
        "    if n%2 == 0:\n",
        "        print('A')\n",
        "    else:\n",
        "        print('B')\n",
        "else:\n",
        "    if n%2 == 0:\n",
        "        print('C')\n",
        "    else:\n",
        "        print('D')"
      ],
      "metadata": {
        "colab": {
          "base_uri": "https://localhost:8080/"
        },
        "id": "TwljzqI_ULQ-",
        "outputId": "d7dc3be1-3ef2-426f-c6ca-d5bb65633013"
      },
      "execution_count": null,
      "outputs": [
        {
          "output_type": "stream",
          "name": "stdout",
          "text": [
            "-2147483648\n",
            "A\n"
          ]
        }
      ]
    },
    {
      "cell_type": "code",
      "source": [
        "n = int(input())\n",
        "if (n<0 and n%2 ==0):\n",
        "    print('A')\n",
        "elif (n<0 and n%2 !=0):\n",
        "    print('B')\n",
        "elif (n>0 and n%2 ==0):\n",
        "    print('C')\n",
        "else:\n",
        "    print('D')"
      ],
      "metadata": {
        "colab": {
          "base_uri": "https://localhost:8080/"
        },
        "id": "4kTPpdfYUlI1",
        "outputId": "3c943417-2664-423e-f5df-23956aad662a"
      },
      "execution_count": null,
      "outputs": [
        {
          "output_type": "stream",
          "name": "stdout",
          "text": [
            "A\n"
          ]
        }
      ]
    },
    {
      "cell_type": "code",
      "source": [
        "# 6068 : [기초-조건/선택실행구조] 점수 입력받아 평가 출력하기(설명)(py)\n",
        "n = int(input())\n",
        "if n >= 90:\n",
        "    print('A')\n",
        "if 70 <= n < 90:\n",
        "    print('B')\n",
        "if 40 <= n < 70:\n",
        "    print('C')\n",
        "if 0 <= n < 40:\n",
        "    print('D')"
      ],
      "metadata": {
        "colab": {
          "base_uri": "https://localhost:8080/"
        },
        "id": "7qCF7ZTLU0lx",
        "outputId": "ca8eee8b-bd4e-4abc-f020-8f81dbff3197"
      },
      "execution_count": null,
      "outputs": [
        {
          "output_type": "stream",
          "name": "stdout",
          "text": [
            "73\n",
            "B\n"
          ]
        }
      ]
    },
    {
      "cell_type": "code",
      "source": [
        "# 6069 : [기초-조건/선택실행구조] 평가 입력받아 다르게 출력하기(py)\n",
        "s = input()\n",
        "if s == 'A':\n",
        "    print('best!!!')\n",
        "elif s == 'B':\n",
        "    print('good!!')\n",
        "elif s == 'C':\n",
        "    print('run!')\n",
        "elif s == 'D':\n",
        "    print('slowly~')\n",
        "else:\n",
        "    print('what?')"
      ],
      "metadata": {
        "id": "ir8S1GxDVYuD"
      },
      "execution_count": null,
      "outputs": []
    },
    {
      "cell_type": "code",
      "source": [
        "# 6070 : [기초-조건/선택실행구조] 월 입력받아 계절 출력하기(설명)(py)\n",
        "m = int(input())\n",
        "if m//3 == 1:  # 3,4,5월\n",
        "    print('spring')\n",
        "elif m//3 == 2:  # 6,7,8월\n",
        "    print('summer') \n",
        "elif m//3 == 3:  # 9,10,11월\n",
        "    print('fall') \n",
        "else:\n",
        "    print('winter')"
      ],
      "metadata": {
        "colab": {
          "base_uri": "https://localhost:8080/"
        },
        "id": "5hIkBtumV2FV",
        "outputId": "2b767f65-59f1-4d91-8145-7e240e09d46e"
      },
      "execution_count": null,
      "outputs": [
        {
          "output_type": "stream",
          "name": "stdout",
          "text": [
            "2\n",
            "winter\n"
          ]
        }
      ]
    },
    {
      "cell_type": "code",
      "source": [
        "# 6071 : [기초-반복실행구조] 0 입력될 때까지 무한 출력하기(설명)(py)\n",
        "while 1:\n",
        "    n = int(input())\n",
        "    if n == 0:\n",
        "        break\n",
        "    else:\n",
        "        print(n)"
      ],
      "metadata": {
        "colab": {
          "base_uri": "https://localhost:8080/"
        },
        "id": "6xiYCk1KWaWH",
        "outputId": "e7c2f19e-ea35-4a70-967f-5285e12734f8"
      },
      "execution_count": null,
      "outputs": [
        {
          "name": "stdout",
          "output_type": "stream",
          "text": [
            "7\n",
            "7\n",
            "4\n",
            "4\n",
            "2\n",
            "2\n",
            "3\n",
            "3\n",
            "0\n"
          ]
        }
      ]
    },
    {
      "cell_type": "code",
      "source": [
        "n = 1  # 0 아닌 값을 임의로 저장\n",
        "while n != 0:\n",
        "    n = int(input())\n",
        "    if n != 0 :\n",
        "        print(n)"
      ],
      "metadata": {
        "colab": {
          "base_uri": "https://localhost:8080/"
        },
        "id": "W9XL3mPiWxR9",
        "outputId": "b63864c4-6472-489f-bdcb-3d2ca1395706"
      },
      "execution_count": null,
      "outputs": [
        {
          "name": "stdout",
          "output_type": "stream",
          "text": [
            "7\n",
            "7\n",
            "4\n",
            "4\n",
            "2\n",
            "2\n",
            "3\n",
            "3\n",
            "0\n"
          ]
        }
      ]
    },
    {
      "cell_type": "code",
      "source": [
        "# 6072 : [기초-반복실행구조] 정수 1개 입력받아 카운트다운 출력하기1(설명)(py)\n",
        "n = int(input())\n",
        "for i in range(n,0,-1):\n",
        "    print(i)"
      ],
      "metadata": {
        "colab": {
          "base_uri": "https://localhost:8080/"
        },
        "id": "LVGiFJDyXNcr",
        "outputId": "16da6eea-73c8-4c9a-ac67-02bc418558c2"
      },
      "execution_count": null,
      "outputs": [
        {
          "output_type": "stream",
          "name": "stdout",
          "text": [
            "5\n",
            "5\n",
            "4\n",
            "3\n",
            "2\n",
            "1\n"
          ]
        }
      ]
    },
    {
      "cell_type": "code",
      "source": [
        "n = int(input())\n",
        "while n != 0:\n",
        "    print(n)\n",
        "    n -= 1"
      ],
      "metadata": {
        "colab": {
          "base_uri": "https://localhost:8080/"
        },
        "id": "t-a2JhaTXyla",
        "outputId": "1678481a-017c-41c4-db10-f71a814d772c"
      },
      "execution_count": null,
      "outputs": [
        {
          "output_type": "stream",
          "name": "stdout",
          "text": [
            "5\n",
            "5\n",
            "4\n",
            "3\n",
            "2\n",
            "1\n"
          ]
        }
      ]
    },
    {
      "cell_type": "code",
      "source": [
        "# 6073 : [기초-반복실행구조] 정수 1개 입력받아 카운트다운 출력하기2(py)\n",
        "n = int(input())\n",
        "while n != 0:\n",
        "    n -= 1\n",
        "    print(n)"
      ],
      "metadata": {
        "colab": {
          "base_uri": "https://localhost:8080/"
        },
        "id": "xJB0iURgX_Vr",
        "outputId": "46a2cf45-0e25-4c4c-cba6-98aea57dc04c"
      },
      "execution_count": null,
      "outputs": [
        {
          "output_type": "stream",
          "name": "stdout",
          "text": [
            "5\n",
            "4\n",
            "3\n",
            "2\n",
            "1\n",
            "0\n"
          ]
        }
      ]
    },
    {
      "cell_type": "code",
      "source": [
        "n = int(input())\n",
        "while n != 0:\n",
        "    print(n-1)\n",
        "    n -= 1"
      ],
      "metadata": {
        "colab": {
          "base_uri": "https://localhost:8080/"
        },
        "id": "qeSsDVBOL3bb",
        "outputId": "fee56c21-2168-4602-b568-32a40891546b"
      },
      "execution_count": null,
      "outputs": [
        {
          "output_type": "stream",
          "name": "stdout",
          "text": [
            "5\n",
            "4\n",
            "3\n",
            "2\n",
            "1\n",
            "0\n"
          ]
        }
      ]
    },
    {
      "cell_type": "code",
      "source": [
        "# 6074 : [기초-반복실행구조] 문자 1개 입력받아 알파벳 출력하기(설명)(py)\n",
        "a = input()\n",
        "print(ord(a))"
      ],
      "metadata": {
        "colab": {
          "base_uri": "https://localhost:8080/"
        },
        "id": "qde60s6BMVfn",
        "outputId": "aa9e2109-09de-48f0-da14-ac3b0fc2fab6"
      },
      "execution_count": null,
      "outputs": [
        {
          "output_type": "stream",
          "name": "stdout",
          "text": [
            "a\n",
            "97\n"
          ]
        }
      ]
    },
    {
      "cell_type": "code",
      "source": [
        "a = input()\n",
        "for i in range(ord('a'), ord(a)+1):\n",
        "    print(chr(i), end=' ')"
      ],
      "metadata": {
        "colab": {
          "base_uri": "https://localhost:8080/"
        },
        "id": "wHKfC3e7MsSo",
        "outputId": "7904cbb7-bd15-440a-9ffa-7e10f1f2c375"
      },
      "execution_count": null,
      "outputs": [
        {
          "output_type": "stream",
          "name": "stdout",
          "text": [
            "f\n",
            "a b c d e f "
          ]
        }
      ]
    },
    {
      "cell_type": "code",
      "source": [
        "a = ord(input())\n",
        "i = ord('a')\n",
        "while i <= a:\n",
        "    print(chr(i), end=' ')\n",
        "    i += 1"
      ],
      "metadata": {
        "colab": {
          "base_uri": "https://localhost:8080/"
        },
        "id": "Fwllis-oMq9Q",
        "outputId": "fc9c00e7-9151-4269-d428-44f13f5ecf0a"
      },
      "execution_count": null,
      "outputs": [
        {
          "output_type": "stream",
          "name": "stdout",
          "text": [
            "f\n",
            "a b c d e f "
          ]
        }
      ]
    },
    {
      "cell_type": "code",
      "source": [
        "# 6075 : [기초-반복실행구조] 정수 1개 입력받아 그 수까지 출력하기1(py)\n",
        "n = int(input())\n",
        "print(*[i for i in range(n+1)], sep='\\n') "
      ],
      "metadata": {
        "colab": {
          "base_uri": "https://localhost:8080/"
        },
        "id": "cL-gw_-sN5S6",
        "outputId": "ad31839a-0e4e-41a9-99e9-b9cc38d4de2d"
      },
      "execution_count": null,
      "outputs": [
        {
          "output_type": "stream",
          "name": "stdout",
          "text": [
            "4\n",
            "0\n",
            "1\n",
            "2\n",
            "3\n",
            "4\n"
          ]
        }
      ]
    },
    {
      "cell_type": "code",
      "source": [
        "# 6076 : [기초-반복실행구조] 정수 1개 입력받아 그 수까지 출력하기2(설명)(py)\n",
        "n = int(input())\n",
        "for i in range(n+1):\n",
        "    print(i)"
      ],
      "metadata": {
        "colab": {
          "base_uri": "https://localhost:8080/"
        },
        "id": "wZ0M0eXxOQTW",
        "outputId": "3ded2298-14ee-4821-d78b-31e65e22910a"
      },
      "execution_count": null,
      "outputs": [
        {
          "output_type": "stream",
          "name": "stdout",
          "text": [
            "4\n",
            "0\n",
            "1\n",
            "2\n",
            "3\n",
            "4\n"
          ]
        }
      ]
    },
    {
      "cell_type": "code",
      "source": [
        "# 6077 : [기초-종합] 짝수 합 구하기(설명)(py)\n",
        "n = int(input())\n",
        "sum = 0\n",
        "for i in range(1,n+1):\n",
        "    if i%2 == 0:\n",
        "        sum += i\n",
        "print(sum)"
      ],
      "metadata": {
        "colab": {
          "base_uri": "https://localhost:8080/"
        },
        "id": "D51SijWWOpn5",
        "outputId": "006a17d0-8308-40bf-c3b4-d0ea7873c996"
      },
      "execution_count": null,
      "outputs": [
        {
          "output_type": "stream",
          "name": "stdout",
          "text": [
            "5\n",
            "6\n"
          ]
        }
      ]
    },
    {
      "cell_type": "code",
      "source": [
        "# 6078 : [기초-종합] 원하는 문자가 입력될 때까지 반복 출력하기(py)\n",
        "while 1:\n",
        "    s = input()\n",
        "    print(s)\n",
        "    if s == 'q':\n",
        "        break"
      ],
      "metadata": {
        "colab": {
          "base_uri": "https://localhost:8080/"
        },
        "id": "-6O947SZPIJN",
        "outputId": "7eb9d6eb-8241-468d-f7b5-0459d0c90102"
      },
      "execution_count": null,
      "outputs": [
        {
          "output_type": "stream",
          "name": "stdout",
          "text": [
            "x\n",
            "x\n",
            "b\n",
            "b\n",
            "k\n",
            "k\n",
            "d\n",
            "d\n",
            "g\n",
            "g\n",
            "q\n",
            "q\n"
          ]
        }
      ]
    },
    {
      "cell_type": "code",
      "source": [
        "# 6079 : [기초-종합] 언제까지 더해야 할까?(py)\n",
        "n = int(input())\n",
        "sum, i = 0, 0\n",
        "while sum < n:\n",
        "    i += 1\n",
        "    sum += i\n",
        "print(i)"
      ],
      "metadata": {
        "colab": {
          "base_uri": "https://localhost:8080/"
        },
        "id": "KpucdAhBQfMJ",
        "outputId": "db9d91a6-be8d-4bd7-c415-4b8ad1e6d856"
      },
      "execution_count": null,
      "outputs": [
        {
          "output_type": "stream",
          "name": "stdout",
          "text": [
            "55\n",
            "10\n"
          ]
        }
      ]
    },
    {
      "cell_type": "code",
      "source": [
        "# 6080 : [기초-종합] 주사위 2개 던지기(설명)(py)\n",
        "n, m = map(int, input().split())\n",
        "for i in range(1,n+1):\n",
        "    for j in range(1,m+1):\n",
        "        print(i, j)"
      ],
      "metadata": {
        "colab": {
          "base_uri": "https://localhost:8080/"
        },
        "id": "3rxps1KARO7l",
        "outputId": "133e0b44-671c-4a5c-aec2-9d06c4ecbd82"
      },
      "execution_count": null,
      "outputs": [
        {
          "output_type": "stream",
          "name": "stdout",
          "text": [
            "2 3\n",
            "1 1\n",
            "1 2\n",
            "1 3\n",
            "2 1\n",
            "2 2\n",
            "2 3\n"
          ]
        }
      ]
    },
    {
      "cell_type": "code",
      "source": [
        "# 6081 : [기초-종합] 16진수 구구단 출력하기(py)\n",
        "a = int(input(), 16)  # 16진수로 저장\n",
        "for i in range(1,16):\n",
        "    print('%X*%X=%X' %(a, i, a*i))"
      ],
      "metadata": {
        "colab": {
          "base_uri": "https://localhost:8080/"
        },
        "id": "2Yp0-xUmSZRr",
        "outputId": "8103b102-386f-4674-f7c2-9d9d3548a368"
      },
      "execution_count": null,
      "outputs": [
        {
          "output_type": "stream",
          "name": "stdout",
          "text": [
            "B\n",
            "B*1=B\n",
            "B*2=16\n",
            "B*3=21\n",
            "B*4=2C\n",
            "B*5=37\n",
            "B*6=42\n",
            "B*7=4D\n",
            "B*8=58\n",
            "B*9=63\n",
            "B*A=6E\n",
            "B*B=79\n",
            "B*C=84\n",
            "B*D=8F\n",
            "B*E=9A\n",
            "B*F=A5\n"
          ]
        }
      ]
    },
    {
      "cell_type": "code",
      "source": [
        "i = 3\n",
        "j = 493\n",
        "if i in j:\n",
        "    print(1)"
      ],
      "metadata": {
        "colab": {
          "base_uri": "https://localhost:8080/",
          "height": 229
        },
        "id": "soFIoDcyWSNs",
        "outputId": "959d70a0-8f14-4d94-b3e9-f32614dd48e2"
      },
      "execution_count": null,
      "outputs": [
        {
          "output_type": "error",
          "ename": "TypeError",
          "evalue": "ignored",
          "traceback": [
            "\u001b[0;31m---------------------------------------------------------------------------\u001b[0m",
            "\u001b[0;31mTypeError\u001b[0m                                 Traceback (most recent call last)",
            "\u001b[0;32m<ipython-input-61-1c3f5234be1d>\u001b[0m in \u001b[0;36m<module>\u001b[0;34m\u001b[0m\n\u001b[1;32m      1\u001b[0m \u001b[0mi\u001b[0m \u001b[0;34m=\u001b[0m \u001b[0;36m3\u001b[0m\u001b[0;34m\u001b[0m\u001b[0;34m\u001b[0m\u001b[0m\n\u001b[1;32m      2\u001b[0m \u001b[0mj\u001b[0m \u001b[0;34m=\u001b[0m \u001b[0;36m493\u001b[0m\u001b[0;34m\u001b[0m\u001b[0;34m\u001b[0m\u001b[0m\n\u001b[0;32m----> 3\u001b[0;31m \u001b[0;32mif\u001b[0m \u001b[0mi\u001b[0m \u001b[0;32min\u001b[0m \u001b[0mj\u001b[0m\u001b[0;34m:\u001b[0m\u001b[0;34m\u001b[0m\u001b[0;34m\u001b[0m\u001b[0m\n\u001b[0m\u001b[1;32m      4\u001b[0m     \u001b[0mprint\u001b[0m\u001b[0;34m(\u001b[0m\u001b[0;36m1\u001b[0m\u001b[0;34m)\u001b[0m\u001b[0;34m\u001b[0m\u001b[0;34m\u001b[0m\u001b[0m\n",
            "\u001b[0;31mTypeError\u001b[0m: argument of type 'int' is not iterable"
          ]
        }
      ]
    },
    {
      "cell_type": "code",
      "source": [
        "# 6082 : [기초-종합] 3 6 9 게임의 왕이 되자(설명)(py)\n",
        "n = int(input())\n",
        "for i in range(1,n+1):\n",
        "    i = str(i)\n",
        "    print('X' if ('3' in i) or ('6' in i) or ('9' in i) else i, end=' ')"
      ],
      "metadata": {
        "colab": {
          "base_uri": "https://localhost:8080/"
        },
        "id": "NET5KtXMShaD",
        "outputId": "016c861b-27be-439e-b355-009f59da76f1"
      },
      "execution_count": null,
      "outputs": [
        {
          "output_type": "stream",
          "name": "stdout",
          "text": [
            "9\n",
            "1 2 X 4 5 X 7 8 X "
          ]
        }
      ]
    },
    {
      "cell_type": "code",
      "source": [
        "# 30보다 작은 정수 1개를 입력\n",
        "n = int(input())\n",
        "for i in range(1,n+1):\n",
        "    print('X' if (i%10==3) or (i%10==6) or (i%10==9) else i, end=' ')"
      ],
      "metadata": {
        "colab": {
          "base_uri": "https://localhost:8080/"
        },
        "id": "nmzZD6_FV2gp",
        "outputId": "d19e2482-913d-45de-b0ce-780336bcdd41"
      },
      "execution_count": null,
      "outputs": [
        {
          "output_type": "stream",
          "name": "stdout",
          "text": [
            "9\n",
            "1 2 X 4 5 X 7 8 X "
          ]
        }
      ]
    },
    {
      "cell_type": "code",
      "source": [
        "# 6083 : [기초-종합] 빛 섞어 색 만들기(설명)(py)\n",
        "r,g,b = map(int, input().split())\n",
        "for i in range(r):\n",
        "    for j in range(g):\n",
        "        for k in range(b):\n",
        "            print(i,j,k)\n",
        "print(r*g*b)"
      ],
      "metadata": {
        "colab": {
          "base_uri": "https://localhost:8080/"
        },
        "id": "S0VzPM5NXTCe",
        "outputId": "3fe66570-df1b-411a-ae43-de02d09e4544"
      },
      "execution_count": null,
      "outputs": [
        {
          "output_type": "stream",
          "name": "stdout",
          "text": [
            "2 2 2\n",
            "0 0 0\n",
            "0 0 1\n",
            "0 1 0\n",
            "0 1 1\n",
            "1 0 0\n",
            "1 0 1\n",
            "1 1 0\n",
            "1 1 1\n",
            "8\n"
          ]
        }
      ]
    },
    {
      "cell_type": "code",
      "source": [
        "# 6084 : [기초-종합] 소리 파일 저장용량 계산하기(py)\n",
        "# bit -> MB\n",
        "# bit/8/1024/1024 -> MB\n",
        "h, b, c, s = map(int, input().split())\n",
        "print(f'{round(h*b*c*s/8/1024/1024, 1)} MB')"
      ],
      "metadata": {
        "colab": {
          "base_uri": "https://localhost:8080/"
        },
        "id": "fSPC_exYXtS8",
        "outputId": "ce9cec2a-aca1-4586-8607-c62bfdc6d4a0"
      },
      "execution_count": null,
      "outputs": [
        {
          "output_type": "stream",
          "name": "stdout",
          "text": [
            "44100 16 2 10\n",
            "1.7MB\n"
          ]
        }
      ]
    },
    {
      "cell_type": "code",
      "source": [
        "# 6085 : [기초-종합] 그림 파일 저장용량 계산하기(py)\n",
        "# bit -> MB\n",
        "# bit/8/1024/1024 -> MB\n",
        "w, h, b = map(int, input().split())\n",
        "print('%.2f' %(w*h*b/8/1024/1024), 'MB')"
      ],
      "metadata": {
        "id": "2K_VjNiOYzr9",
        "colab": {
          "base_uri": "https://localhost:8080/"
        },
        "outputId": "7ed3acb0-6050-489b-b3ee-1da9857f32e8"
      },
      "execution_count": null,
      "outputs": [
        {
          "output_type": "stream",
          "name": "stdout",
          "text": [
            "100 100 4\n",
            "0.00 MB\n"
          ]
        }
      ]
    },
    {
      "cell_type": "code",
      "source": [
        "# 6086 : [기초-종합] 거기까지! 이제 그만~(설명)(py)\n",
        "n = int(input())\n",
        "sum = 0\n",
        "i= 1\n",
        "while 1:\n",
        "    sum += i\n",
        "    i += 1\n",
        "    if sum >= n:\n",
        "        break\n",
        "print(sum)"
      ],
      "metadata": {
        "colab": {
          "base_uri": "https://localhost:8080/"
        },
        "id": "DDOrVx3i3Qxb",
        "outputId": "003a38d1-913c-45e0-b532-ff874f75452d"
      },
      "execution_count": null,
      "outputs": [
        {
          "output_type": "stream",
          "name": "stdout",
          "text": [
            "57\n",
            "66\n"
          ]
        }
      ]
    },
    {
      "cell_type": "code",
      "source": [
        "# 6087 : [기초-종합] 3의 배수는 통과(설명)(py)\n",
        "n = int(input())\n",
        "for i in range(1,n+1):\n",
        "    if i%3 == 0:\n",
        "        continue\n",
        "    print(i, end = ' ')"
      ],
      "metadata": {
        "colab": {
          "base_uri": "https://localhost:8080/"
        },
        "id": "Mxl1Uzy65uR-",
        "outputId": "a0583927-7662-44e3-b93c-3f02e65707bd"
      },
      "execution_count": null,
      "outputs": [
        {
          "output_type": "stream",
          "name": "stdout",
          "text": [
            "10\n",
            "1 2 4 5 7 8 10 "
          ]
        }
      ]
    },
    {
      "cell_type": "code",
      "source": [
        "# 6088 : [기초-종합] 수 나열하기1(py)\n",
        "# 시작 값(a), 등차의 값(d), 몇 번째 수 인지를 의미하는 정수(n)\n",
        "a, d, n = map(int, input().split())\n",
        "print(a + (n-1)*d)"
      ],
      "metadata": {
        "colab": {
          "base_uri": "https://localhost:8080/"
        },
        "id": "DGJotCcy6g4w",
        "outputId": "10cdaa2f-aef3-4a8e-a367-16ef63aecedf"
      },
      "execution_count": null,
      "outputs": [
        {
          "output_type": "stream",
          "name": "stdout",
          "text": [
            "1 3 5\n",
            "13\n"
          ]
        }
      ]
    },
    {
      "cell_type": "code",
      "source": [
        "# 6089 : [기초-종합] 수 나열하기2(py)\n",
        "# 시작 값(a), 등비의 값(r), 몇 번째 인지를 나타내는 정수(n)\n",
        "a, r, n = map(int, input().split())\n",
        "print(a*(r**(n-1)))"
      ],
      "metadata": {
        "colab": {
          "base_uri": "https://localhost:8080/"
        },
        "id": "sWQNsFrE7K2V",
        "outputId": "f8e265af-8a28-4e6e-a533-4480500b134d"
      },
      "execution_count": null,
      "outputs": [
        {
          "output_type": "stream",
          "name": "stdout",
          "text": [
            "2 3 7\n",
            "1458\n"
          ]
        }
      ]
    },
    {
      "cell_type": "code",
      "source": [
        "# 6090 : [기초-종합] 수 나열하기3(py)\n",
        "# 시작 값(a), 곱할 값(m), 더할 값(d), 몇 번째 인지를 나타내는 정수(n)\n",
        "a, m, d, n = map(int, input().split())\n",
        "for _ in range(n-1):\n",
        "    ans = a*m + d\n",
        "    a = ans\n",
        "print(ans)"
      ],
      "metadata": {
        "colab": {
          "base_uri": "https://localhost:8080/"
        },
        "id": "AynINrCk7X2v",
        "outputId": "9c3125c7-f87c-436f-c684-aa41c96975f4"
      },
      "execution_count": null,
      "outputs": [
        {
          "output_type": "stream",
          "name": "stdout",
          "text": [
            "1 -2 1 8\n",
            "1\n",
            "-1\n",
            "-1\n",
            "3\n",
            "3\n",
            "-5\n",
            "-5\n",
            "11\n",
            "11\n",
            "-21\n",
            "-21\n",
            "43\n",
            "43\n",
            "-85\n"
          ]
        }
      ]
    },
    {
      "cell_type": "code",
      "source": [
        "a, m, d, n = map(int, input().split())\n",
        "for _ in range(1,n):\n",
        "    a = a*m + d\n",
        "print(a)"
      ],
      "metadata": {
        "colab": {
          "base_uri": "https://localhost:8080/"
        },
        "id": "gxc3ctCu8QdA",
        "outputId": "30a2db56-b6f5-45bb-ba1e-e7864879a893"
      },
      "execution_count": null,
      "outputs": [
        {
          "output_type": "stream",
          "name": "stdout",
          "text": [
            "1 -2 1 8\n",
            "-85\n"
          ]
        }
      ]
    },
    {
      "cell_type": "code",
      "source": [
        "# 6091 : [기초-종합] 함께 문제 푸는 날(설명)(py)\n",
        "a, b, c = map(int, input().split()) \n",
        "d = 1\n",
        "while 1:\n",
        "    if (d%a == 0) and (d%b == 0) and (d%c == 0):\n",
        "        break\n",
        "    d += 1\n",
        "print(d)"
      ],
      "metadata": {
        "colab": {
          "base_uri": "https://localhost:8080/"
        },
        "id": "Y3lBvHLP9VKh",
        "outputId": "94268ba1-366f-4579-8f07-b5ecf623f449"
      },
      "execution_count": null,
      "outputs": [
        {
          "output_type": "stream",
          "name": "stdout",
          "text": [
            "3 7 9\n",
            "63\n"
          ]
        }
      ]
    },
    {
      "cell_type": "code",
      "source": [
        "# 6092 : [기초-리스트] 이상한 출석 번호 부르기1(설명)(py)\n",
        "n = int(input())\n",
        "a = list(map(int, input().split()))\n",
        "num = [0]*23\n",
        "for i in a:\n",
        "    num[i-1] += 1\n",
        "print(*num)"
      ],
      "metadata": {
        "colab": {
          "base_uri": "https://localhost:8080/"
        },
        "id": "RpbiNwAT-bfD",
        "outputId": "e1d23f8e-12a2-417b-a91b-73d85653a0f3"
      },
      "execution_count": null,
      "outputs": [
        {
          "output_type": "stream",
          "name": "stdout",
          "text": [
            "10\n",
            "1 3 2 2 5 6 7 4 5 9\n",
            "1 2 1 1 2 1 1 0 1 0 0 0 0 0 0 0 0 0 0 0 0 0 0\n"
          ]
        }
      ]
    },
    {
      "cell_type": "code",
      "source": [
        "# 6093 : [기초-리스트] 이상한 출석 번호 부르기2(py)\n",
        "n = int(input())\n",
        "num = list(map(int, input().split()))\n",
        "print(*num[::-1])"
      ],
      "metadata": {
        "colab": {
          "base_uri": "https://localhost:8080/"
        },
        "id": "sEcnMsml_wrS",
        "outputId": "279e1608-c917-404d-e866-f53970980652"
      },
      "execution_count": null,
      "outputs": [
        {
          "output_type": "stream",
          "name": "stdout",
          "text": [
            "10\n",
            "10 4 2 3 6 6 7 9 8 5\n",
            "5 8 9 7 6 6 3 2 4 10\n"
          ]
        }
      ]
    },
    {
      "cell_type": "code",
      "source": [
        "# 6094 : [기초-리스트] 이상한 출석 번호 부르기3(py)\n",
        "n = int(input())\n",
        "num = list(map(int, input().split()))\n",
        "print(min(num))"
      ],
      "metadata": {
        "colab": {
          "base_uri": "https://localhost:8080/"
        },
        "id": "oXcaUeFo_-Ex",
        "outputId": "95e43f95-9894-4838-d5e3-e705dc002bed"
      },
      "execution_count": null,
      "outputs": [
        {
          "output_type": "stream",
          "name": "stdout",
          "text": [
            "10\n",
            "10 4 2 3 6 6 7 9 8 5\n",
            "2\n"
          ]
        }
      ]
    },
    {
      "cell_type": "code",
      "source": [
        "# 6095 : [기초-리스트] 바둑판에 흰 돌 놓기(설명)(py)\n",
        "d = [[0 for j in range(19)] for i in range(19)]\n",
        "print(d)"
      ],
      "metadata": {
        "colab": {
          "base_uri": "https://localhost:8080/"
        },
        "id": "9yYeWo9sAPyW",
        "outputId": "e7c6c17d-a099-4acc-cb4f-c03063aae97e"
      },
      "execution_count": null,
      "outputs": [
        {
          "output_type": "stream",
          "name": "stdout",
          "text": [
            "[[0, 0, 0, 0, 0, 0, 0, 0, 0, 0, 0, 0, 0, 0, 0, 0, 0, 0, 0], [0, 0, 0, 0, 0, 0, 0, 0, 0, 0, 0, 0, 0, 0, 0, 0, 0, 0, 0], [0, 0, 0, 0, 0, 0, 0, 0, 0, 0, 0, 0, 0, 0, 0, 0, 0, 0, 0], [0, 0, 0, 0, 0, 0, 0, 0, 0, 0, 0, 0, 0, 0, 0, 0, 0, 0, 0], [0, 0, 0, 0, 0, 0, 0, 0, 0, 0, 0, 0, 0, 0, 0, 0, 0, 0, 0], [0, 0, 0, 0, 0, 0, 0, 0, 0, 0, 0, 0, 0, 0, 0, 0, 0, 0, 0], [0, 0, 0, 0, 0, 0, 0, 0, 0, 0, 0, 0, 0, 0, 0, 0, 0, 0, 0], [0, 0, 0, 0, 0, 0, 0, 0, 0, 0, 0, 0, 0, 0, 0, 0, 0, 0, 0], [0, 0, 0, 0, 0, 0, 0, 0, 0, 0, 0, 0, 0, 0, 0, 0, 0, 0, 0], [0, 0, 0, 0, 0, 0, 0, 0, 0, 0, 0, 0, 0, 0, 0, 0, 0, 0, 0], [0, 0, 0, 0, 0, 0, 0, 0, 0, 0, 0, 0, 0, 0, 0, 0, 0, 0, 0], [0, 0, 0, 0, 0, 0, 0, 0, 0, 0, 0, 0, 0, 0, 0, 0, 0, 0, 0], [0, 0, 0, 0, 0, 0, 0, 0, 0, 0, 0, 0, 0, 0, 0, 0, 0, 0, 0], [0, 0, 0, 0, 0, 0, 0, 0, 0, 0, 0, 0, 0, 0, 0, 0, 0, 0, 0], [0, 0, 0, 0, 0, 0, 0, 0, 0, 0, 0, 0, 0, 0, 0, 0, 0, 0, 0], [0, 0, 0, 0, 0, 0, 0, 0, 0, 0, 0, 0, 0, 0, 0, 0, 0, 0, 0], [0, 0, 0, 0, 0, 0, 0, 0, 0, 0, 0, 0, 0, 0, 0, 0, 0, 0, 0], [0, 0, 0, 0, 0, 0, 0, 0, 0, 0, 0, 0, 0, 0, 0, 0, 0, 0, 0], [0, 0, 0, 0, 0, 0, 0, 0, 0, 0, 0, 0, 0, 0, 0, 0, 0, 0, 0]]\n"
          ]
        }
      ]
    },
    {
      "cell_type": "code",
      "source": [
        "n = int(input())\n",
        "for _ in range(n):\n",
        "    x, y = map(int, input().split())\n",
        "    d[x-1][y-1] = 1\n",
        "print(d)"
      ],
      "metadata": {
        "colab": {
          "base_uri": "https://localhost:8080/"
        },
        "id": "Ep_PuS-kCRzf",
        "outputId": "b4d6c2e9-1661-4631-d1c3-560a18652beb"
      },
      "execution_count": null,
      "outputs": [
        {
          "output_type": "stream",
          "name": "stdout",
          "text": [
            "5\n",
            "1 1\n",
            "2 2\n",
            "3 3\n",
            "4 4 \n",
            "5 5\n",
            "[[1, 0, 0, 0, 0, 0, 0, 0, 0, 0, 0, 0, 0, 0, 0, 0, 0, 0, 0], [0, 1, 0, 0, 0, 0, 0, 0, 0, 0, 0, 0, 0, 0, 0, 0, 0, 0, 0], [0, 0, 1, 0, 0, 0, 0, 0, 0, 0, 0, 0, 0, 0, 0, 0, 0, 0, 0], [0, 0, 0, 1, 0, 0, 0, 0, 0, 0, 0, 0, 0, 0, 0, 0, 0, 0, 0], [0, 0, 0, 0, 1, 0, 0, 0, 0, 0, 0, 0, 0, 0, 0, 0, 0, 0, 0], [0, 0, 0, 0, 0, 0, 0, 0, 0, 0, 0, 0, 0, 0, 0, 0, 0, 0, 0], [0, 0, 0, 0, 0, 0, 0, 0, 0, 0, 0, 0, 0, 0, 0, 0, 0, 0, 0], [0, 0, 0, 0, 0, 0, 0, 0, 0, 0, 0, 0, 0, 0, 0, 0, 0, 0, 0], [0, 0, 0, 0, 0, 0, 0, 0, 0, 0, 0, 0, 0, 0, 0, 0, 0, 0, 0], [0, 0, 0, 0, 0, 0, 0, 0, 0, 0, 0, 0, 0, 0, 0, 0, 0, 0, 0], [0, 0, 0, 0, 0, 0, 0, 0, 0, 0, 0, 0, 0, 0, 0, 0, 0, 0, 0], [0, 0, 0, 0, 0, 0, 0, 0, 0, 0, 0, 0, 0, 0, 0, 0, 0, 0, 0], [0, 0, 0, 0, 0, 0, 0, 0, 0, 0, 0, 0, 0, 0, 0, 0, 0, 0, 0], [0, 0, 0, 0, 0, 0, 0, 0, 0, 0, 0, 0, 0, 0, 0, 0, 0, 0, 0], [0, 0, 0, 0, 0, 0, 0, 0, 0, 0, 0, 0, 0, 0, 0, 0, 0, 0, 0], [0, 0, 0, 0, 0, 0, 0, 0, 0, 0, 0, 0, 0, 0, 0, 0, 0, 0, 0], [0, 0, 0, 0, 0, 0, 0, 0, 0, 0, 0, 0, 0, 0, 0, 0, 0, 0, 0], [0, 0, 0, 0, 0, 0, 0, 0, 0, 0, 0, 0, 0, 0, 0, 0, 0, 0, 0], [0, 0, 0, 0, 0, 0, 0, 0, 0, 0, 0, 0, 0, 0, 0, 0, 0, 0, 0]]\n"
          ]
        }
      ]
    },
    {
      "cell_type": "code",
      "source": [
        "for i in range(19):\n",
        "    print(*d[i])"
      ],
      "metadata": {
        "colab": {
          "base_uri": "https://localhost:8080/"
        },
        "id": "E3JxdpIMCdT4",
        "outputId": "8aa7acf3-9a44-4122-ff12-25cb98ea09ba"
      },
      "execution_count": null,
      "outputs": [
        {
          "output_type": "stream",
          "name": "stdout",
          "text": [
            "1 0 0 0 0 0 0 0 0 0 0 0 0 0 0 0 0 0 0\n",
            "0 1 0 0 0 0 0 0 0 0 0 0 0 0 0 0 0 0 0\n",
            "0 0 1 0 0 0 0 0 0 0 0 0 0 0 0 0 0 0 0\n",
            "0 0 0 1 0 0 0 0 0 0 0 0 0 0 0 0 0 0 0\n",
            "0 0 0 0 1 0 0 0 0 0 0 0 0 0 0 0 0 0 0\n",
            "0 0 0 0 0 0 0 0 0 0 0 0 0 0 0 0 0 0 0\n",
            "0 0 0 0 0 0 0 0 0 0 0 0 0 0 0 0 0 0 0\n",
            "0 0 0 0 0 0 0 0 0 0 0 0 0 0 0 0 0 0 0\n",
            "0 0 0 0 0 0 0 0 0 0 0 0 0 0 0 0 0 0 0\n",
            "0 0 0 0 0 0 0 0 0 0 0 0 0 0 0 0 0 0 0\n",
            "0 0 0 0 0 0 0 0 0 0 0 0 0 0 0 0 0 0 0\n",
            "0 0 0 0 0 0 0 0 0 0 0 0 0 0 0 0 0 0 0\n",
            "0 0 0 0 0 0 0 0 0 0 0 0 0 0 0 0 0 0 0\n",
            "0 0 0 0 0 0 0 0 0 0 0 0 0 0 0 0 0 0 0\n",
            "0 0 0 0 0 0 0 0 0 0 0 0 0 0 0 0 0 0 0\n",
            "0 0 0 0 0 0 0 0 0 0 0 0 0 0 0 0 0 0 0\n",
            "0 0 0 0 0 0 0 0 0 0 0 0 0 0 0 0 0 0 0\n",
            "0 0 0 0 0 0 0 0 0 0 0 0 0 0 0 0 0 0 0\n",
            "0 0 0 0 0 0 0 0 0 0 0 0 0 0 0 0 0 0 0\n"
          ]
        }
      ]
    },
    {
      "cell_type": "code",
      "source": [
        "d = [[0 for j in range(19)] for i in range(19)]\n",
        "n = int(input())\n",
        "for _ in range(n):\n",
        "    x, y = map(int, input().split())\n",
        "    d[x-1][y-1] = 1\n",
        "\n",
        "for i in range(19):\n",
        "    print(*d[i])"
      ],
      "metadata": {
        "colab": {
          "base_uri": "https://localhost:8080/"
        },
        "id": "pSQvxK4tCtkj",
        "outputId": "c7949c5e-1f2a-4c7b-8616-19ca5e08d38e"
      },
      "execution_count": null,
      "outputs": [
        {
          "output_type": "stream",
          "name": "stdout",
          "text": [
            "5\n",
            "1 1\n",
            "2 2\n",
            "3 3\n",
            "4 4\n",
            "5 5\n",
            "1 0 0 0 0 0 0 0 0 0 0 0 0 0 0 0 0 0 0\n",
            "0 1 0 0 0 0 0 0 0 0 0 0 0 0 0 0 0 0 0\n",
            "0 0 1 0 0 0 0 0 0 0 0 0 0 0 0 0 0 0 0\n",
            "0 0 0 1 0 0 0 0 0 0 0 0 0 0 0 0 0 0 0\n",
            "0 0 0 0 1 0 0 0 0 0 0 0 0 0 0 0 0 0 0\n",
            "0 0 0 0 0 0 0 0 0 0 0 0 0 0 0 0 0 0 0\n",
            "0 0 0 0 0 0 0 0 0 0 0 0 0 0 0 0 0 0 0\n",
            "0 0 0 0 0 0 0 0 0 0 0 0 0 0 0 0 0 0 0\n",
            "0 0 0 0 0 0 0 0 0 0 0 0 0 0 0 0 0 0 0\n",
            "0 0 0 0 0 0 0 0 0 0 0 0 0 0 0 0 0 0 0\n",
            "0 0 0 0 0 0 0 0 0 0 0 0 0 0 0 0 0 0 0\n",
            "0 0 0 0 0 0 0 0 0 0 0 0 0 0 0 0 0 0 0\n",
            "0 0 0 0 0 0 0 0 0 0 0 0 0 0 0 0 0 0 0\n",
            "0 0 0 0 0 0 0 0 0 0 0 0 0 0 0 0 0 0 0\n",
            "0 0 0 0 0 0 0 0 0 0 0 0 0 0 0 0 0 0 0\n",
            "0 0 0 0 0 0 0 0 0 0 0 0 0 0 0 0 0 0 0\n",
            "0 0 0 0 0 0 0 0 0 0 0 0 0 0 0 0 0 0 0\n",
            "0 0 0 0 0 0 0 0 0 0 0 0 0 0 0 0 0 0 0\n",
            "0 0 0 0 0 0 0 0 0 0 0 0 0 0 0 0 0 0 0\n"
          ]
        }
      ]
    },
    {
      "cell_type": "code",
      "source": [
        "d = [[0 for j in range(20)] for i in range(20)]\n",
        "n = int(input())\n",
        "for _ in range(n):\n",
        "    x, y = map(int, input().split())\n",
        "    d[x][y] = 1\n",
        "\n",
        "for i in range(1,20):\n",
        "    for j in range(1,20):\n",
        "        print(d[i][j], end=' ')\n",
        "    print()"
      ],
      "metadata": {
        "colab": {
          "base_uri": "https://localhost:8080/"
        },
        "id": "WnG5j9zlDipO",
        "outputId": "74a50f38-c282-4b70-974d-3f393049d471"
      },
      "execution_count": null,
      "outputs": [
        {
          "output_type": "stream",
          "name": "stdout",
          "text": [
            "5\n",
            "1 1\n",
            "2 2\n",
            "3 3\n",
            "4 4\n",
            "5 5\n",
            "1 0 0 0 0 0 0 0 0 0 0 0 0 0 0 0 0 0 0 \n",
            "0 1 0 0 0 0 0 0 0 0 0 0 0 0 0 0 0 0 0 \n",
            "0 0 1 0 0 0 0 0 0 0 0 0 0 0 0 0 0 0 0 \n",
            "0 0 0 1 0 0 0 0 0 0 0 0 0 0 0 0 0 0 0 \n",
            "0 0 0 0 1 0 0 0 0 0 0 0 0 0 0 0 0 0 0 \n",
            "0 0 0 0 0 0 0 0 0 0 0 0 0 0 0 0 0 0 0 \n",
            "0 0 0 0 0 0 0 0 0 0 0 0 0 0 0 0 0 0 0 \n",
            "0 0 0 0 0 0 0 0 0 0 0 0 0 0 0 0 0 0 0 \n",
            "0 0 0 0 0 0 0 0 0 0 0 0 0 0 0 0 0 0 0 \n",
            "0 0 0 0 0 0 0 0 0 0 0 0 0 0 0 0 0 0 0 \n",
            "0 0 0 0 0 0 0 0 0 0 0 0 0 0 0 0 0 0 0 \n",
            "0 0 0 0 0 0 0 0 0 0 0 0 0 0 0 0 0 0 0 \n",
            "0 0 0 0 0 0 0 0 0 0 0 0 0 0 0 0 0 0 0 \n",
            "0 0 0 0 0 0 0 0 0 0 0 0 0 0 0 0 0 0 0 \n",
            "0 0 0 0 0 0 0 0 0 0 0 0 0 0 0 0 0 0 0 \n",
            "0 0 0 0 0 0 0 0 0 0 0 0 0 0 0 0 0 0 0 \n",
            "0 0 0 0 0 0 0 0 0 0 0 0 0 0 0 0 0 0 0 \n",
            "0 0 0 0 0 0 0 0 0 0 0 0 0 0 0 0 0 0 0 \n",
            "0 0 0 0 0 0 0 0 0 0 0 0 0 0 0 0 0 0 0 \n"
          ]
        }
      ]
    },
    {
      "cell_type": "code",
      "source": [
        "# 6096 : [기초-리스트] 바둑알 십자 뒤집기(py)\n",
        "d = []\n",
        "for i in range(4):\n",
        "    d.append(list(map(int, input().split())))\n",
        "print(d)"
      ],
      "metadata": {
        "colab": {
          "base_uri": "https://localhost:8080/"
        },
        "id": "0fhlCocTKMBF",
        "outputId": "21647ddd-52a1-4ee8-8bc3-4d004f602c05"
      },
      "execution_count": null,
      "outputs": [
        {
          "output_type": "stream",
          "name": "stdout",
          "text": [
            "1 1 1 1\n",
            "0 1 0 0\n",
            "0 0 1 0\n",
            "0 0 0 1\n",
            "[[1, 1, 1, 1], [0, 1, 0, 0], [0, 0, 1, 0], [0, 0, 0, 1]]\n"
          ]
        }
      ]
    },
    {
      "cell_type": "code",
      "source": [
        "x, y = map(int, input().split())\n",
        "for i in range(4):\n",
        "    if d[x-1][i] == 1:\n",
        "        d[x-1][i] = 0\n",
        "    else:\n",
        "        d[x-1][i] = 1\n",
        "    if d[i][y-1] == 1:\n",
        "        d[i][y-1] = 0\n",
        "    else:\n",
        "        d[i][y-1] = 1"
      ],
      "metadata": {
        "colab": {
          "base_uri": "https://localhost:8080/"
        },
        "id": "tmm4bhGdMwRg",
        "outputId": "8b209e4e-e3b1-4bbe-cf41-8707d78950ff"
      },
      "execution_count": null,
      "outputs": [
        {
          "name": "stdout",
          "output_type": "stream",
          "text": [
            "2 2\n"
          ]
        }
      ]
    },
    {
      "cell_type": "code",
      "source": [
        "for i in range(4):\n",
        "    for j in range(4):\n",
        "        print(d[i][j], end=' ')\n",
        "    print()"
      ],
      "metadata": {
        "colab": {
          "base_uri": "https://localhost:8080/"
        },
        "id": "7J9pnYy8NHtl",
        "outputId": "19a3b3f6-e18e-45cf-fdde-1cd3858b475f"
      },
      "execution_count": null,
      "outputs": [
        {
          "output_type": "stream",
          "name": "stdout",
          "text": [
            "1 0 1 1 \n",
            "1 1 1 1 \n",
            "0 1 1 0 \n",
            "0 1 0 1 \n"
          ]
        }
      ]
    },
    {
      "cell_type": "code",
      "source": [
        "d = [[0, 0, 0, 0, 0, 0, 0, 0, 0, 1, 0, 1, 0, 0, 0, 0, 0, 0, 0],\n",
        "[0, 0, 0, 0, 0, 0, 0, 0, 0, 1, 0, 1, 0, 0, 0, 0, 0, 0, 0],\n",
        "[0, 0, 0, 0, 0, 0, 0, 0, 0, 1, 0, 1, 0, 0, 0, 0, 0, 0, 0],\n",
        "[0, 0, 0, 0, 0, 0, 0, 0, 0, 1, 0, 1, 0, 0, 0, 0, 0, 0, 0],\n",
        "[0, 0, 0, 0, 0, 0, 0, 0, 0, 1, 0, 1, 0, 0, 0, 0, 0, 0, 0],\n",
        "[0, 0, 0, 0, 0, 0, 0, 0, 0, 1, 0, 1, 0, 0, 0, 0, 0, 0, 0],\n",
        "[0, 0, 0, 0, 0, 0, 0, 0, 0, 1, 0, 1, 0, 0, 0, 0, 0, 0, 0],\n",
        "[0, 0, 0, 0, 0, 0, 0, 0, 0, 1, 0, 1, 0, 0, 0, 0, 0, 0, 0],\n",
        "[0, 0, 0, 0, 0, 0, 0, 0, 0, 1, 0, 1, 0, 0, 0, 0, 0, 0, 0],\n",
        "[1, 1, 1, 1, 1, 1, 1, 1, 1, 1, 1, 1, 1, 1, 1, 1, 1, 1, 1],\n",
        "[0, 0, 0, 0, 0, 0, 0, 0, 0, 1, 0, 1, 0, 0, 0, 0, 0, 0, 0],\n",
        "[1, 1, 1, 1, 1, 1, 1, 1, 1, 1, 1, 1, 1, 1, 1, 1, 1, 1, 1],\n",
        "[0, 0, 0, 0, 0, 0, 0, 0, 0, 1, 0, 1, 0, 0, 0, 0, 0, 0, 0],\n",
        "[0, 0, 0, 0, 0, 0, 0, 0, 0, 1, 0, 1, 0, 0, 0, 0, 0, 0, 0],\n",
        "[0, 0, 0, 0, 0, 0, 0, 0, 0, 1, 0, 1, 0, 0, 0, 0, 0, 0, 0],\n",
        "[0, 0, 0, 0, 0, 0, 0, 0, 0, 1, 0, 1, 0, 0, 0, 0, 0, 0, 0],\n",
        "[0, 0, 0, 0, 0, 0, 0, 0, 0, 1, 0, 1, 0, 0, 0, 0, 0, 0, 0],\n",
        "[0, 0, 0, 0, 0, 0, 0, 0, 0, 1, 0, 1, 0, 0, 0, 0, 0, 0, 0],\n",
        "[0, 0, 0, 0, 0, 0, 0, 0, 0, 1, 0, 1, 0, 0, 0, 0, 0, 0, 0]]"
      ],
      "metadata": {
        "id": "MA6xlM-bPnlh"
      },
      "execution_count": null,
      "outputs": []
    },
    {
      "cell_type": "code",
      "source": [
        "d = []\n",
        "for i in range(19):\n",
        "    d.append(list(map(int, input().split())))\n",
        "\n",
        "n = int(input())\n",
        "for _ in range(n):\n",
        "    x, y = map(int, input().split())\n",
        "    for i in range(19):\n",
        "        if d[x-1][i] == 1:\n",
        "            d[x-1][i] = 0\n",
        "        else:\n",
        "            d[x-1][i] = 1\n",
        "        if d[i][y-1] == 1:\n",
        "            d[i][y-1] = 0\n",
        "        else:\n",
        "            d[i][y-1] = 1\n",
        "\n",
        "for i in range(19):\n",
        "    for j in range(19):\n",
        "        print(d[i][j], end=' ')\n",
        "    print()"
      ],
      "metadata": {
        "colab": {
          "base_uri": "https://localhost:8080/"
        },
        "id": "2Bt88tokNrv1",
        "outputId": "2aae2525-32ae-4644-dd1e-b99f2a597ea7"
      },
      "execution_count": null,
      "outputs": [
        {
          "name": "stdout",
          "output_type": "stream",
          "text": [
            "0 0 0 0 0 0 0 0 0 1 0 1 0 0 0 0 0 0 0\n",
            "0 0 0 0 0 0 0 0 0 1 0 1 0 0 0 0 0 0 0\n",
            "0 0 0 0 0 0 0 0 0 1 0 1 0 0 0 0 0 0 0\n",
            "0 0 0 0 0 0 0 0 0 1 0 1 0 0 0 0 0 0 0\n",
            "0 0 0 0 0 0 0 0 0 1 0 1 0 0 0 0 0 0 0\n",
            "0 0 0 0 0 0 0 0 0 1 0 1 0 0 0 0 0 0 0\n",
            "0 0 0 0 0 0 0 0 0 1 0 1 0 0 0 0 0 0 0\n",
            "0 0 0 0 0 0 0 0 0 1 0 1 0 0 0 0 0 0 0\n",
            "0 0 0 0 0 0 0 0 0 1 0 1 0 0 0 0 0 0 0\n",
            "1 1 1 1 1 1 1 1 1 1 1 1 1 1 1 1 1 1 1\n",
            "0 0 0 0 0 0 0 0 0 1 0 1 0 0 0 0 0 0 0\n",
            "1 1 1 1 1 1 1 1 1 1 1 1 1 1 1 1 1 1 1\n",
            "0 0 0 0 0 0 0 0 0 1 0 1 0 0 0 0 0 0 0\n",
            "0 0 0 0 0 0 0 0 0 1 0 1 0 0 0 0 0 0 0\n",
            "0 0 0 0 0 0 0 0 0 1 0 1 0 0 0 0 0 0 0\n",
            "0 0 0 0 0 0 0 0 0 1 0 1 0 0 0 0 0 0 0\n",
            "0 0 0 0 0 0 0 0 0 1 0 1 0 0 0 0 0 0 0\n",
            "0 0 0 0 0 0 0 0 0 1 0 1 0 0 0 0 0 0 0\n",
            "0 0 0 0 0 0 0 0 0 1 0 1 0 0 0 0 0 0 0\n"
          ]
        }
      ]
    },
    {
      "cell_type": "code",
      "source": [
        "# 6097 : [기초-리스트] 설탕과자 뽑기(py)\n",
        "# 격자판의 세로(h), 가로(w)\n",
        "h, w = 5, 5\n",
        "pan = [[0 for _ in range(w)] for _ in range(h)]\n",
        "# pans = [[0]*w for _ in range(h)]\n",
        "print(pan)"
      ],
      "metadata": {
        "colab": {
          "base_uri": "https://localhost:8080/"
        },
        "id": "aPCsjTLhQl_Z",
        "outputId": "533b0ad2-a88e-43a8-ca58-6d3a9f1eecc4"
      },
      "execution_count": null,
      "outputs": [
        {
          "output_type": "stream",
          "name": "stdout",
          "text": [
            "[[0, 0, 0, 0, 0], [0, 0, 0, 0, 0], [0, 0, 0, 0, 0], [0, 0, 0, 0, 0], [0, 0, 0, 0, 0]]\n"
          ]
        }
      ]
    },
    {
      "cell_type": "code",
      "source": [
        "# 막대의 개수(n)\n",
        "# 각 막대의 길이(l), 방향(d), 좌표(x, y)\n",
        "l, d, x, y = 4,1,2,5\n",
        "    # d: 가로는 0, 세로는 1\n",
        "for i in range(l):\n",
        "    if d == 0:\n",
        "        pan[x-1][y-1+i] = 1\n",
        "    else:\n",
        "        pan[x-1+i][y-1] = 1\n",
        "print(pan)"
      ],
      "metadata": {
        "colab": {
          "base_uri": "https://localhost:8080/"
        },
        "id": "T2pdSkWFRqt8",
        "outputId": "b13ea54d-119c-48d5-9c06-68575f820ebb"
      },
      "execution_count": null,
      "outputs": [
        {
          "output_type": "stream",
          "name": "stdout",
          "text": [
            "[[1, 1, 0, 0, 0], [0, 0, 1, 0, 1], [0, 0, 1, 0, 1], [0, 0, 1, 0, 1], [0, 0, 0, 0, 1]]\n"
          ]
        }
      ]
    },
    {
      "cell_type": "code",
      "source": [
        "for i in range(h):\n",
        "    for j in range(w):\n",
        "        print(pan[i][j], end=' ')\n",
        "    print()"
      ],
      "metadata": {
        "colab": {
          "base_uri": "https://localhost:8080/"
        },
        "id": "NWBExHtCT77A",
        "outputId": "cbbf4174-2702-478b-c4d4-26ad170b933f"
      },
      "execution_count": null,
      "outputs": [
        {
          "output_type": "stream",
          "name": "stdout",
          "text": [
            "1 1 0 0 0 \n",
            "0 0 1 0 1 \n",
            "0 0 1 0 1 \n",
            "0 0 1 0 1 \n",
            "0 0 0 0 1 \n"
          ]
        }
      ]
    },
    {
      "cell_type": "code",
      "source": [
        "h, w = map(int, input().split())\n",
        "pan = [[0]*w for _ in range(h)]\n",
        "n = int(input())  \n",
        "for _ in range(n):  \n",
        "    l, d, x, y = map(int, input().split())\n",
        "    for i in range(l):\n",
        "        if d == 0:\n",
        "            pan[x-1][y-1+i] = 1\n",
        "        else:\n",
        "            pan[x-1+i][y-1] = 1\n",
        "\n",
        "for i in range(h):\n",
        "    for j in range(w):\n",
        "        print(pan[i][j], end=' ')\n",
        "    print()"
      ],
      "metadata": {
        "colab": {
          "base_uri": "https://localhost:8080/"
        },
        "id": "ATyFhXy-Svs3",
        "outputId": "13b9a10e-2fb0-465f-8334-c9f7f1960634"
      },
      "execution_count": null,
      "outputs": [
        {
          "output_type": "stream",
          "name": "stdout",
          "text": [
            "5 5\n",
            "3\n",
            "2 0 1 1\n",
            "3 1 2 3\n",
            "4 1 2 5\n",
            "1 1 0 0 0 \n",
            "0 0 1 0 1 \n",
            "0 0 1 0 1 \n",
            "0 0 1 0 1 \n",
            "0 0 0 0 1 \n"
          ]
        }
      ]
    },
    {
      "cell_type": "code",
      "source": [
        "# 6098 : [기초-리스트] 성실한 개미(py)\n",
        "ant = [[1, 1, 1, 1, 1, 1, 1, 1, 1, 1],\n",
        "[1, 0, 0, 1, 0, 0, 0, 0, 0, 1],\n",
        "[1, 0, 0, 1, 1, 1, 0, 0, 0, 1],\n",
        "[1, 0, 0, 0, 0, 0, 0, 1, 0, 1],\n",
        "[1, 0, 0, 0, 0, 0, 0, 1, 0, 1],\n",
        "[1, 0, 0, 0, 0, 1, 0, 1, 0, 1],\n",
        "[1, 0, 0, 0, 0, 1, 2, 1, 0, 1],\n",
        "[1, 0, 0, 0, 0, 1, 0, 0, 0, 1],\n",
        "[1, 0, 0, 0, 0, 0, 0, 0, 0, 1],\n",
        "[1, 1, 1, 1, 1, 1, 1, 1, 1, 1]]"
      ],
      "metadata": {
        "id": "ezHxO7wvUPaq"
      },
      "execution_count": null,
      "outputs": []
    },
    {
      "cell_type": "code",
      "source": [
        "x, y = 2-1, 2-1"
      ],
      "metadata": {
        "id": "nLJSmoGbetAD"
      },
      "execution_count": null,
      "outputs": []
    },
    {
      "cell_type": "code",
      "source": [
        "while 1:\n",
        "    if ant[x][y] == 0:\n",
        "        ant[x][y] = 9\n",
        "    elif ant[x][y] == 2:\n",
        "        ant[x][y] = 9\n",
        "        break\n",
        "\n",
        "    if ant[x][y+1] == 1 and ant[x+1][y] == 1:\n",
        "        break\n",
        "    if ant[x][y+1] != 1:\n",
        "        y += 1\n",
        "    elif ant[x+1][y] != 1:\n",
        "        x += 1"
      ],
      "metadata": {
        "id": "TmvNIclLicjk"
      },
      "execution_count": null,
      "outputs": []
    },
    {
      "cell_type": "code",
      "source": [
        "for i in range(10):\n",
        "    for j in range(10):\n",
        "        print(ant[i][j], end=' ')\n",
        "    print()"
      ],
      "metadata": {
        "colab": {
          "base_uri": "https://localhost:8080/"
        },
        "id": "Q3j3YeAKZRJG",
        "outputId": "6c4abde8-4af2-4bca-9b10-28dcf3968287"
      },
      "execution_count": null,
      "outputs": [
        {
          "output_type": "stream",
          "name": "stdout",
          "text": [
            "1 1 1 1 1 1 1 1 1 1 \n",
            "1 9 9 1 0 0 0 0 0 1 \n",
            "1 0 9 1 1 1 0 0 0 1 \n",
            "1 0 9 9 9 9 9 1 0 1 \n",
            "1 0 0 0 0 0 9 1 0 1 \n",
            "1 0 0 0 0 1 9 1 0 1 \n",
            "1 0 0 0 0 1 9 1 0 1 \n",
            "1 0 0 0 0 1 0 0 0 1 \n",
            "1 0 0 0 0 0 0 0 0 1 \n",
            "1 1 1 1 1 1 1 1 1 1 \n"
          ]
        }
      ]
    },
    {
      "cell_type": "code",
      "source": [
        "ant = []\n",
        "for _ in range(10):\n",
        "    ant.append(list(map(int, input().split())))\n",
        "\n",
        "x, y = 1,1\n",
        "while 1:\n",
        "    if ant[x][y] == 0:\n",
        "        ant[x][y] = 9\n",
        "    elif ant[x][y] == 2:\n",
        "        ant[x][y] = 9\n",
        "        break\n",
        "\n",
        "    if ant[x][y+1] == 1 and ant[x+1][y] == 1:\n",
        "        break\n",
        "    if ant[x][y+1] != 1:\n",
        "        y += 1\n",
        "    elif ant[x+1][y] != 1:\n",
        "        x += 1\n",
        "\n",
        "for i in range(10):\n",
        "    for j in range(10):\n",
        "        print(ant[i][j], end=' ')\n",
        "    print()"
      ],
      "metadata": {
        "colab": {
          "base_uri": "https://localhost:8080/"
        },
        "id": "X-Iy_-2ojVuA",
        "outputId": "bcadbd4c-260c-489a-de7c-bde6818f481f"
      },
      "execution_count": null,
      "outputs": [
        {
          "output_type": "stream",
          "name": "stdout",
          "text": [
            "1 1 1 1 1 1 1 1 1 1\n",
            "1 0 0 1 0 0 0 0 0 1\n",
            "1 0 0 1 1 1 0 0 0 1\n",
            "1 0 0 0 0 0 0 1 0 1\n",
            "1 0 0 0 0 0 0 1 0 1\n",
            "1 0 0 0 0 1 0 1 0 1\n",
            "1 0 0 0 0 1 2 1 0 1\n",
            "1 0 0 0 0 1 0 0 0 1\n",
            "1 0 0 0 0 0 0 0 0 1\n",
            "1 1 1 1 1 1 1 1 1 1\n",
            "1 1 1 1 1 1 1 1 1 1 \n",
            "1 9 9 1 0 0 0 0 0 1 \n",
            "1 0 9 1 1 1 0 0 0 1 \n",
            "1 0 9 9 9 9 9 1 0 1 \n",
            "1 0 0 0 0 0 9 1 0 1 \n",
            "1 0 0 0 0 1 9 1 0 1 \n",
            "1 0 0 0 0 1 9 1 0 1 \n",
            "1 0 0 0 0 1 0 0 0 1 \n",
            "1 0 0 0 0 0 0 0 0 1 \n",
            "1 1 1 1 1 1 1 1 1 1 \n"
          ]
        }
      ]
    }
  ]
}