{
  "nbformat": 4,
  "nbformat_minor": 0,
  "metadata": {
    "colab": {
      "provenance": [],
      "collapsed_sections": [],
      "authorship_tag": "ABX9TyNT2kzmocn5AfN/N4U6lUIn",
      "include_colab_link": true
    },
    "kernelspec": {
      "name": "python3",
      "display_name": "Python 3"
    },
    "language_info": {
      "name": "python"
    }
  },
  "cells": [
    {
      "cell_type": "markdown",
      "metadata": {
        "id": "view-in-github",
        "colab_type": "text"
      },
      "source": [
        "<a href=\"https://colab.research.google.com/github/jisoo-noh/Code_up/blob/main/code1_51.ipynb\" target=\"_parent\"><img src=\"https://colab.research.google.com/assets/colab-badge.svg\" alt=\"Open In Colab\"/></a>"
      ]
    },
    {
      "cell_type": "code",
      "source": [
        "# 6001 : [기초-출력] 출력하기01(설명)(py)\n",
        "print('Hello')"
      ],
      "metadata": {
        "colab": {
          "base_uri": "https://localhost:8080/"
        },
        "id": "C9bKW20BaLhs",
        "outputId": "23d583e6-0cfc-4a12-83c1-c313836f5b3a"
      },
      "execution_count": null,
      "outputs": [
        {
          "output_type": "stream",
          "name": "stdout",
          "text": [
            "Hello\n"
          ]
        }
      ]
    },
    {
      "cell_type": "code",
      "source": [
        "# 6002 : [기초-출력] 출력하기02(설명)(py)\n",
        "print('Hello World')"
      ],
      "metadata": {
        "colab": {
          "base_uri": "https://localhost:8080/"
        },
        "id": "eEiKq0hUaZbw",
        "outputId": "286a44b1-991d-4944-9ea3-e61793bb7fc9"
      },
      "execution_count": null,
      "outputs": [
        {
          "output_type": "stream",
          "name": "stdout",
          "text": [
            "Hello World\n"
          ]
        }
      ]
    },
    {
      "cell_type": "code",
      "source": [
        "print('Hello', 'World')"
      ],
      "metadata": {
        "colab": {
          "base_uri": "https://localhost:8080/"
        },
        "id": "-kFucsN3actS",
        "outputId": "a1663180-82c1-4e01-ba00-c6de16650f10"
      },
      "execution_count": null,
      "outputs": [
        {
          "output_type": "stream",
          "name": "stdout",
          "text": [
            "Hello World\n"
          ]
        }
      ]
    },
    {
      "cell_type": "code",
      "execution_count": null,
      "metadata": {
        "colab": {
          "base_uri": "https://localhost:8080/"
        },
        "id": "nrxO0F2YFhD_",
        "outputId": "f77f006d-8587-44af-800c-3dbf6193591d"
      },
      "outputs": [
        {
          "output_type": "stream",
          "name": "stdout",
          "text": [
            "Hello\n",
            "World\n"
          ]
        }
      ],
      "source": [
        "# 6003: [기초-출력] 출력하기03(설명)(py)\n",
        "print('Hello\\nWorld')"
      ]
    },
    {
      "cell_type": "code",
      "source": [
        "# 6004 : [기초-출력] 출력하기04(설명)(py)\n",
        "print(\"'Hello'\")"
      ],
      "metadata": {
        "colab": {
          "base_uri": "https://localhost:8080/"
        },
        "id": "TKtXIcE2GSV4",
        "outputId": "67712cf0-002f-4376-96fc-d288bcf75008"
      },
      "execution_count": null,
      "outputs": [
        {
          "output_type": "stream",
          "name": "stdout",
          "text": [
            "'Hello'\n"
          ]
        }
      ]
    },
    {
      "cell_type": "code",
      "source": [
        "# 6005 : [기초-출력] 출력하기05(설명)(py)\n",
        "print('\"Hello World\"')"
      ],
      "metadata": {
        "colab": {
          "base_uri": "https://localhost:8080/"
        },
        "id": "5it7FJvYGgJu",
        "outputId": "e813f429-de40-4926-a9cf-43189e28217b"
      },
      "execution_count": null,
      "outputs": [
        {
          "output_type": "stream",
          "name": "stdout",
          "text": [
            "\"Hello World\"\n"
          ]
        }
      ]
    },
    {
      "cell_type": "code",
      "source": [
        "# 6006 : [기초-출력] 출력하기06(py)\n",
        "print('\"!@#$%^&*()', \"'\", sep = '')"
      ],
      "metadata": {
        "colab": {
          "base_uri": "https://localhost:8080/"
        },
        "id": "zWjE1HnqGpoY",
        "outputId": "b11a2227-acb9-44e7-daa4-233604fd6062"
      },
      "execution_count": null,
      "outputs": [
        {
          "output_type": "stream",
          "name": "stdout",
          "text": [
            "\"!@#$%^&*()'\n"
          ]
        }
      ]
    },
    {
      "cell_type": "code",
      "source": [
        "# 6007 : [기초-출력] 출력하기07(py)\n",
        "print('\"C:\\\\Download\\\\', \"'hello'.py\", '\"', sep = '')"
      ],
      "metadata": {
        "colab": {
          "base_uri": "https://localhost:8080/"
        },
        "id": "2UD3epQvG03u",
        "outputId": "5b4c3b6f-a515-42f5-ef76-6403d549a285"
      },
      "execution_count": null,
      "outputs": [
        {
          "output_type": "stream",
          "name": "stdout",
          "text": [
            "\"C:\\Download\\'hello'.py\"\n"
          ]
        }
      ]
    },
    {
      "cell_type": "code",
      "source": [
        "# 6008 : [기초-출력] 출력하기08(py)\n",
        "print('print(\"Hello\\\\nWorld\")')"
      ],
      "metadata": {
        "colab": {
          "base_uri": "https://localhost:8080/"
        },
        "id": "Gr8jQ34IHDw5",
        "outputId": "93a0b175-032e-45da-8d39-cddae55b53aa"
      },
      "execution_count": null,
      "outputs": [
        {
          "output_type": "stream",
          "name": "stdout",
          "text": [
            "print(\"Hello\\nWorld\")\n"
          ]
        }
      ]
    },
    {
      "cell_type": "code",
      "source": [
        "# 6009 : [기초-입출력] 문자 1개 입력받아 그대로 출력하기(설명)(py)\n",
        "s = input()\n",
        "print(s)"
      ],
      "metadata": {
        "colab": {
          "base_uri": "https://localhost:8080/"
        },
        "id": "qiRK36NnHvT3",
        "outputId": "2c944f54-593c-4f54-c0b7-6861912aa43a"
      },
      "execution_count": null,
      "outputs": [
        {
          "output_type": "stream",
          "name": "stdout",
          "text": [
            "a\n",
            "a\n"
          ]
        }
      ]
    },
    {
      "cell_type": "code",
      "source": [
        "# 6010 : [기초-입출력] 정수 1개 입력받아 int로 변환하여 출력하기(설명)(py)\n",
        "n = int(input())\n",
        "print(n)"
      ],
      "metadata": {
        "colab": {
          "base_uri": "https://localhost:8080/"
        },
        "id": "13UjATe4IOL6",
        "outputId": "3860b8a6-9e38-4730-bde7-e8490b902399"
      },
      "execution_count": null,
      "outputs": [
        {
          "output_type": "stream",
          "name": "stdout",
          "text": [
            "15\n",
            "15\n"
          ]
        }
      ]
    },
    {
      "cell_type": "code",
      "source": [
        "# 6011 : [기초-입출력] 실수 1개 입력받아 변환하여 출력하기(설명)(py)\n",
        "f = float(input())\n",
        "print(f)"
      ],
      "metadata": {
        "colab": {
          "base_uri": "https://localhost:8080/"
        },
        "id": "WaiRzgNYIZsZ",
        "outputId": "2ed66a2e-630d-4bdc-fac2-1c4db8205eff"
      },
      "execution_count": null,
      "outputs": [
        {
          "output_type": "stream",
          "name": "stdout",
          "text": [
            "1.414213\n",
            "1.414213\n"
          ]
        }
      ]
    },
    {
      "cell_type": "code",
      "source": [
        "# 6012 : [기초-입출력] 정수 2개 입력받아 그대로 출력하기1(설명)(py)\n",
        "a = int(input())\n",
        "b = int(input())\n",
        "print(a)\n",
        "print(b)"
      ],
      "metadata": {
        "colab": {
          "base_uri": "https://localhost:8080/"
        },
        "id": "b4gEL3RFIgv6",
        "outputId": "7d56ef0d-a56b-40e1-cb3d-3260d17c2453"
      },
      "execution_count": null,
      "outputs": [
        {
          "output_type": "stream",
          "name": "stdout",
          "text": [
            "1\n",
            "2\n",
            "1\n",
            "2\n"
          ]
        }
      ]
    },
    {
      "cell_type": "code",
      "source": [
        "# 6013 : [기초-입출력] 문자 2개 입력받아 순서 바꿔 출력하기1(py)\n",
        "s1 = input()\n",
        "s2 = input()\n",
        "print(s2, s1, sep = '\\n')"
      ],
      "metadata": {
        "colab": {
          "base_uri": "https://localhost:8080/"
        },
        "id": "jYj-R4rlJYHr",
        "outputId": "14652bcc-9b7f-4279-e595-11c339b18080"
      },
      "execution_count": null,
      "outputs": [
        {
          "output_type": "stream",
          "name": "stdout",
          "text": [
            "a\n",
            "b\n",
            "b\n",
            "a\n"
          ]
        }
      ]
    },
    {
      "cell_type": "code",
      "source": [
        "# 6014 : [기초-입출력] 실수 1개 입력받아 3번 출력하기(py)\n",
        "f = float(input())\n",
        "print(f,f,f, sep = '\\n')"
      ],
      "metadata": {
        "colab": {
          "base_uri": "https://localhost:8080/"
        },
        "id": "B-SAkZeUJ0aa",
        "outputId": "eb84574a-ac86-49f3-8568-d0a762e2052c"
      },
      "execution_count": null,
      "outputs": [
        {
          "output_type": "stream",
          "name": "stdout",
          "text": [
            "0.1\n",
            "0.1\n",
            "0.1\n",
            "0.1\n"
          ]
        }
      ]
    },
    {
      "cell_type": "code",
      "source": [
        "# 6015 : [기초-입출력] 정수 2개 입력받아 그대로 출력하기2(설명)(py)\n",
        "a, b = input().split()\n",
        "print(a, b, sep = '\\n')"
      ],
      "metadata": {
        "colab": {
          "base_uri": "https://localhost:8080/"
        },
        "id": "b6buwretJxpi",
        "outputId": "1f7571ff-5c1e-43b6-b935-9dfb1882bb4f"
      },
      "execution_count": null,
      "outputs": [
        {
          "output_type": "stream",
          "name": "stdout",
          "text": [
            "1 2\n",
            "1\n",
            "2\n"
          ]
        }
      ]
    },
    {
      "cell_type": "code",
      "source": [
        "# 6016 : [기초-입출력] 문자 2개 입력받아 순서 바꿔 출력하기2(설명)(py)\n",
        "c1, c2 = input().split()\n",
        "print(c2, c1)"
      ],
      "metadata": {
        "colab": {
          "base_uri": "https://localhost:8080/"
        },
        "id": "QHB9nJHrK4io",
        "outputId": "515da991-c9b2-4cab-9a54-f0e05e9ba1fb"
      },
      "execution_count": null,
      "outputs": [
        {
          "output_type": "stream",
          "name": "stdout",
          "text": [
            "a b\n",
            "b a\n"
          ]
        }
      ]
    },
    {
      "cell_type": "code",
      "source": [
        "# 6017 : [기초-입출력] 문장 1개 입력받아 3번 출력하기(설명)(py)\n",
        "s = input()\n",
        "print(s,s,s, sep = ' ')"
      ],
      "metadata": {
        "colab": {
          "base_uri": "https://localhost:8080/"
        },
        "id": "NyzDihSSK9P0",
        "outputId": "6710a856-c49e-43aa-d3dd-60b2f21601b4"
      },
      "execution_count": null,
      "outputs": [
        {
          "output_type": "stream",
          "name": "stdout",
          "text": [
            "computer science\n",
            "computer science computer science computer science\n"
          ]
        }
      ]
    },
    {
      "cell_type": "code",
      "source": [
        "# 6018 : [기초-입출력] 시간 입력받아 그대로 출력하기(설명)(py)\n",
        "h, m = input().split(':')\n",
        "print(h, m, sep=':')"
      ],
      "metadata": {
        "colab": {
          "base_uri": "https://localhost:8080/"
        },
        "id": "Rjal2FFaLNm_",
        "outputId": "9afa380b-6de9-46bf-d112-b75ae79809a7"
      },
      "execution_count": null,
      "outputs": [
        {
          "output_type": "stream",
          "name": "stdout",
          "text": [
            "3:16\n",
            "3:16\n"
          ]
        }
      ]
    },
    {
      "cell_type": "code",
      "source": [
        "# 6019 : [기초-입출력] 연월일 입력받아 순서 바꿔 출력하기(py)\n",
        "y, m, d = input().split('.')\n",
        "print(d,m,y, sep = '-')"
      ],
      "metadata": {
        "colab": {
          "base_uri": "https://localhost:8080/"
        },
        "id": "aVolaFpzLnHA",
        "outputId": "7d1dfca6-e000-4bd2-c5ce-80a85e7f78be"
      },
      "execution_count": null,
      "outputs": [
        {
          "output_type": "stream",
          "name": "stdout",
          "text": [
            "2020.3.4\n",
            "4-3-2020\n"
          ]
        }
      ]
    },
    {
      "cell_type": "code",
      "source": [
        "# 6020 : [기초-입출력] 주민번호 입력받아 형태 바꿔 출력하기(py)\n",
        "n1, n2 = input().split('-')\n",
        "print(n1 + n2)"
      ],
      "metadata": {
        "colab": {
          "base_uri": "https://localhost:8080/"
        },
        "id": "Hv1bjF_dL6Ze",
        "outputId": "401e2231-f39c-4cb5-891c-12533290e649"
      },
      "execution_count": null,
      "outputs": [
        {
          "output_type": "stream",
          "name": "stdout",
          "text": [
            "000907-1121112\n",
            "0009071121112\n"
          ]
        }
      ]
    },
    {
      "cell_type": "code",
      "source": [
        "# 6021 : [기초-입출력] 단어 1개 입력받아 나누어 출력하기(설명)(py)\n",
        "s = input()\n",
        "for i in s:\n",
        "    print(i)"
      ],
      "metadata": {
        "colab": {
          "base_uri": "https://localhost:8080/"
        },
        "id": "SEkmWnYxMiZk",
        "outputId": "c5164f0c-2434-4ce1-cf38-315f7b0c1622"
      },
      "execution_count": null,
      "outputs": [
        {
          "output_type": "stream",
          "name": "stdout",
          "text": [
            "Hello\n",
            "H\n",
            "e\n",
            "l\n",
            "l\n",
            "o\n"
          ]
        }
      ]
    },
    {
      "cell_type": "code",
      "source": [
        "# 6022 : [기초-입출력] 연월일 입력받아 나누어 출력하기(설명)(py)\n",
        "date = input()\n",
        "print(date[0:2], date[2:4], date[4:6])"
      ],
      "metadata": {
        "colab": {
          "base_uri": "https://localhost:8080/"
        },
        "id": "9gNK-tCgM3ux",
        "outputId": "9fe948da-b3cf-484b-b093-a06a517da28f"
      },
      "execution_count": null,
      "outputs": [
        {
          "output_type": "stream",
          "name": "stdout",
          "text": [
            "200304\n",
            "20 03 04\n"
          ]
        }
      ]
    },
    {
      "cell_type": "code",
      "source": [
        "# 6023 : [기초-입출력] 시분초 입력받아 분만 출력하기(py)\n",
        "h, m, s = input().split(':')\n",
        "print(m)"
      ],
      "metadata": {
        "colab": {
          "base_uri": "https://localhost:8080/"
        },
        "id": "hCefbDotWPwR",
        "outputId": "1236af78-00ce-4074-d10a-06e4b961ffba"
      },
      "execution_count": null,
      "outputs": [
        {
          "output_type": "stream",
          "name": "stdout",
          "text": [
            "17:23:57\n",
            "23\n"
          ]
        }
      ]
    },
    {
      "cell_type": "code",
      "source": [
        "# 6024 : [기초-입출력] 단어 2개 입력받아 이어 붙이기(설명)(py)\n",
        "s1, s2 = input().split()\n",
        "print(s1 + s2)"
      ],
      "metadata": {
        "colab": {
          "base_uri": "https://localhost:8080/"
        },
        "id": "Ouy_9IfJWm0e",
        "outputId": "5cd32609-d960-485f-fb45-4d9614907c3a"
      },
      "execution_count": null,
      "outputs": [
        {
          "output_type": "stream",
          "name": "stdout",
          "text": [
            "hello world\n",
            "helloworld\n"
          ]
        }
      ]
    },
    {
      "cell_type": "code",
      "source": [
        "# 6025 : [기초-값변환] 정수 2개 입력받아 합 계산하기(설명)(py)\n",
        "a, b = input().split()\n",
        "print(int(a) + int(b))"
      ],
      "metadata": {
        "colab": {
          "base_uri": "https://localhost:8080/"
        },
        "id": "NiMyamcmWwHs",
        "outputId": "648d6884-6c2b-47bb-e40d-aac234244bbe"
      },
      "execution_count": null,
      "outputs": [
        {
          "output_type": "stream",
          "name": "stdout",
          "text": [
            "123 -123\n",
            "0\n"
          ]
        }
      ]
    },
    {
      "cell_type": "code",
      "source": [
        "# 6026 : [기초-값변환] 실수 2개 입력받아 합 계산하기(설명)(py)\n",
        "f1 = float(input())\n",
        "f2 = float(input())\n",
        "print(f1 + f2)"
      ],
      "metadata": {
        "colab": {
          "base_uri": "https://localhost:8080/"
        },
        "id": "OTEP_DloXIKw",
        "outputId": "1e973db2-7b31-472d-eefa-7f93be2eb6a7"
      },
      "execution_count": null,
      "outputs": [
        {
          "output_type": "stream",
          "name": "stdout",
          "text": [
            "0.1\n",
            "0.9\n",
            "1.0\n"
          ]
        }
      ]
    },
    {
      "cell_type": "code",
      "source": [
        "# 6027 : [기초-출력변환] 10진 정수 입력받아 16진수로 출력하기1(설명)(py)\n",
        "n = int(input()) \n",
        "print('%x' %n)  # 16진수 소문자 형태로 출력"
      ],
      "metadata": {
        "colab": {
          "base_uri": "https://localhost:8080/"
        },
        "id": "-ry59-bBXqg6",
        "outputId": "0a97d183-0cc7-488a-9e6b-8f76296abf47"
      },
      "execution_count": null,
      "outputs": [
        {
          "output_type": "stream",
          "name": "stdout",
          "text": [
            "255\n",
            "ff\n"
          ]
        }
      ]
    },
    {
      "cell_type": "code",
      "source": [
        "# 6028 : [기초-출력변환] 10진 정수 입력받아 16진수로 출력하기2(설명)(py)\n",
        "n = int(input())\n",
        "print('%X' %n)  # 16진수 대문자 형태로 출력"
      ],
      "metadata": {
        "colab": {
          "base_uri": "https://localhost:8080/"
        },
        "id": "IclA-JqjYNiv",
        "outputId": "9f9cab83-6a0a-472a-a218-8ef6c4ec0ba7"
      },
      "execution_count": null,
      "outputs": [
        {
          "output_type": "stream",
          "name": "stdout",
          "text": [
            "255\n",
            "FF\n"
          ]
        }
      ]
    },
    {
      "cell_type": "code",
      "source": [
        "# 6029 : [기초-값변환] 16진 정수 입력받아 8진수로 출력하기(설명)(py)\n",
        "n = int(input(), 16)  # 16진수 값에서\n",
        "print('%o' %n)  # 8진수(octal) 문자열로 출력"
      ],
      "metadata": {
        "colab": {
          "base_uri": "https://localhost:8080/"
        },
        "id": "X0Z30We7ZmT5",
        "outputId": "122470fb-35dc-4757-c7f2-0bb5c0d86d69"
      },
      "execution_count": null,
      "outputs": [
        {
          "output_type": "stream",
          "name": "stdout",
          "text": [
            "f\n",
            "17\n"
          ]
        }
      ]
    },
    {
      "cell_type": "code",
      "source": [
        "# 6030 : [기초-값변환] 영문자 1개 입력받아 10진수로 변환하기(설명)(py)\n",
        "# chr - ord\n",
        "n = ord(input())\n",
        "print(n)"
      ],
      "metadata": {
        "colab": {
          "base_uri": "https://localhost:8080/"
        },
        "id": "C5Fs-7U4Zs1K",
        "outputId": "1f68c33d-38e8-4a30-abfc-9ec69866e659"
      },
      "execution_count": null,
      "outputs": [
        {
          "output_type": "stream",
          "name": "stdout",
          "text": [
            "A\n",
            "65\n"
          ]
        }
      ]
    },
    {
      "cell_type": "code",
      "source": [
        "# 6031 : [기초-값변환] 정수 입력받아 유니코드 문자로 변환하기(설명)(py)\n",
        "# ord - chr\n",
        "c = int(input())\n",
        "print(chr(c))  # 유니코드 문자로 출력"
      ],
      "metadata": {
        "colab": {
          "base_uri": "https://localhost:8080/"
        },
        "id": "0CJpGBVJaS1T",
        "outputId": "4d1c178c-74a7-4ac7-c19c-d632272b58c9"
      },
      "execution_count": null,
      "outputs": [
        {
          "output_type": "stream",
          "name": "stdout",
          "text": [
            "65\n",
            "A\n"
          ]
        }
      ]
    },
    {
      "cell_type": "code",
      "source": [
        "# 6032 : [기초-산술연산] 정수 1개 입력받아 부호 바꾸기(설명)(py)\n",
        "n = int(input())\n",
        "print(-n)"
      ],
      "metadata": {
        "colab": {
          "base_uri": "https://localhost:8080/"
        },
        "id": "Y__SEcYrabdP",
        "outputId": "ddb5f2f2-b527-4494-db6a-b1119acef426"
      },
      "execution_count": null,
      "outputs": [
        {
          "output_type": "stream",
          "name": "stdout",
          "text": [
            "-1\n",
            "1\n"
          ]
        }
      ]
    },
    {
      "cell_type": "code",
      "source": [
        "# 6033 : [기초-산술연산] 문자 1개 입력받아 다음 문자 출력하기(설명)(py)\n",
        "n = int(ord(input()))\n",
        "print(chr(n+1))"
      ],
      "metadata": {
        "colab": {
          "base_uri": "https://localhost:8080/"
        },
        "id": "BctjW_8ha6C5",
        "outputId": "1f8ae455-f758-45c2-c716-dfd9e038e6ca"
      },
      "execution_count": null,
      "outputs": [
        {
          "output_type": "stream",
          "name": "stdout",
          "text": [
            "a\n",
            "b\n"
          ]
        }
      ]
    },
    {
      "cell_type": "code",
      "source": [
        "# 6034 : [기초-산술연산] 정수 2개 입력받아 차 계산하기(설명)(py)\n",
        "a, b = map(int, input().split())\n",
        "print(a - b)"
      ],
      "metadata": {
        "colab": {
          "base_uri": "https://localhost:8080/"
        },
        "id": "ya54zuqMbSDj",
        "outputId": "468d2124-f205-4fb1-a7fd-23e8ae5963d8"
      },
      "execution_count": null,
      "outputs": [
        {
          "output_type": "stream",
          "name": "stdout",
          "text": [
            "123 -123\n",
            "246\n"
          ]
        }
      ]
    },
    {
      "cell_type": "code",
      "source": [
        "# 6035 : [기초-산술연산] 실수 2개 입력받아 곱 계산하기(설명)(py)\n",
        "f1, f2 = map(float, input().split())\n",
        "print(f1 * f2)"
      ],
      "metadata": {
        "colab": {
          "base_uri": "https://localhost:8080/"
        },
        "id": "hfdEavJ-dMnc",
        "outputId": "5c7d06a7-d2d2-41bf-ea5e-fb4d320e47a5"
      },
      "execution_count": null,
      "outputs": [
        {
          "output_type": "stream",
          "name": "stdout",
          "text": [
            "0.5 2.0\n",
            "1.0\n"
          ]
        }
      ]
    },
    {
      "cell_type": "code",
      "source": [
        "# 6036 : [기초-산술연산] 단어 여러 번 출력하기(설명)(py)\n",
        "n, m = input().split()\n",
        "print(n * int(m))"
      ],
      "metadata": {
        "colab": {
          "base_uri": "https://localhost:8080/"
        },
        "id": "9ZhhoXwidW0A",
        "outputId": "97cb7837-d016-407d-926d-b15bdf7edc30"
      },
      "execution_count": null,
      "outputs": [
        {
          "output_type": "stream",
          "name": "stdout",
          "text": [
            "love 3\n",
            "lovelovelove\n"
          ]
        }
      ]
    },
    {
      "cell_type": "code",
      "source": [
        "# 6037 : [기초-산술연산] 문장 여러 번 출력하기(설명)(py)\n",
        "n = int(input())\n",
        "s = input()\n",
        "print(s * n)"
      ],
      "metadata": {
        "colab": {
          "base_uri": "https://localhost:8080/"
        },
        "id": "dT-xuORndhOB",
        "outputId": "b865baf1-a17e-4b71-bd11-5515c985f887"
      },
      "execution_count": null,
      "outputs": [
        {
          "output_type": "stream",
          "name": "stdout",
          "text": [
            "3 \n",
            "I love CS\n",
            "I love CSI love CSI love CS\n"
          ]
        }
      ]
    },
    {
      "cell_type": "code",
      "source": [
        "# 6038 : [기초-산술연산] 정수 2개 입력받아 거듭제곱 계산하기(설명)(py)\n",
        "a, b = map(int, input().split())\n",
        "print(a ** b)"
      ],
      "metadata": {
        "colab": {
          "base_uri": "https://localhost:8080/"
        },
        "id": "b3yJkFEIeAJs",
        "outputId": "0ba97381-eda3-42fc-9bd1-8950f27775c6"
      },
      "execution_count": null,
      "outputs": [
        {
          "output_type": "stream",
          "name": "stdout",
          "text": [
            "2 10\n",
            "1024\n"
          ]
        }
      ]
    },
    {
      "cell_type": "code",
      "source": [
        "# 6039 : [기초-산술연산] 실수 2개 입력받아 거듭제곱 계산하기(py)\n",
        "f1, f2 = map(float, input().split())\n",
        "print(f1 ** f2)"
      ],
      "metadata": {
        "colab": {
          "base_uri": "https://localhost:8080/"
        },
        "id": "ULl4xXQbeJIC",
        "outputId": "8f98c14d-7e4f-4e6b-bf46-ce7e80f366ee"
      },
      "execution_count": null,
      "outputs": [
        {
          "output_type": "stream",
          "name": "stdout",
          "text": [
            "4.0 2.0\n",
            "16.0\n"
          ]
        }
      ]
    },
    {
      "cell_type": "code",
      "source": [
        "# 6040 : [기초-산술연산] 정수 2개 입력받아 나눈 몫 계산하기(설명)(py)\n",
        "a, b = map(int, input().split())\n",
        "print(a // b)"
      ],
      "metadata": {
        "colab": {
          "base_uri": "https://localhost:8080/"
        },
        "id": "39sX4vG3eRnK",
        "outputId": "b403c5de-56e0-45f1-eda4-6b00cc4abe74"
      },
      "execution_count": null,
      "outputs": [
        {
          "output_type": "stream",
          "name": "stdout",
          "text": [
            "10 3\n",
            "3\n"
          ]
        }
      ]
    },
    {
      "cell_type": "code",
      "source": [
        "# 6041 : [기초-산술연산] 정수 2개 입력받아 나눈 나머지 계산하기(설명)(py)\n",
        "a, b = map(int, input().split())\n",
        "print(a % b)"
      ],
      "metadata": {
        "colab": {
          "base_uri": "https://localhost:8080/"
        },
        "id": "lahOXSpVear3",
        "outputId": "6a5f79b0-0d75-4e2f-87ef-a001bf8d6e6e"
      },
      "execution_count": null,
      "outputs": [
        {
          "output_type": "stream",
          "name": "stdout",
          "text": [
            "10 3\n",
            "1\n"
          ]
        }
      ]
    },
    {
      "cell_type": "code",
      "source": [
        "# 6042 : [기초-값변환] 실수 1개 입력받아 소숫점이하 자리 변환하기(설명)(py)\n",
        "f = float(input())\n",
        "print(round(f, 2))"
      ],
      "metadata": {
        "colab": {
          "base_uri": "https://localhost:8080/"
        },
        "id": "R2BHQ2BNeiL-",
        "outputId": "e879ba47-42e4-438b-aa5d-9d39948d29d4"
      },
      "execution_count": null,
      "outputs": [
        {
          "output_type": "stream",
          "name": "stdout",
          "text": [
            "3.141592\n",
            "3.14\n"
          ]
        }
      ]
    },
    {
      "cell_type": "code",
      "source": [
        "# 6043 : [기초-산술연산] 실수 2개 입력받아 나눈 결과 계산하기(py)\n",
        "f1, f2 = map(float, input().split())\n",
        "print('%.3f' %(f1/f2))"
      ],
      "metadata": {
        "colab": {
          "base_uri": "https://localhost:8080/"
        },
        "id": "b7kuxM-NepZ-",
        "outputId": "1a1dce03-10e6-4bc5-aac0-af48b2fa41d8"
      },
      "execution_count": null,
      "outputs": [
        {
          "output_type": "stream",
          "name": "stdout",
          "text": [
            "10.0 3.0\n",
            "3.333\n"
          ]
        }
      ]
    },
    {
      "cell_type": "code",
      "source": [
        "# 6044 : [기초-산술연산] 정수 2개 입력받아 자동 계산하기(py)\n",
        "a, b = map(int, input().split())\n",
        "print(a+b, a-b, a*b, a//b, a%b, round(a/b, 2), sep = '\\n')"
      ],
      "metadata": {
        "colab": {
          "base_uri": "https://localhost:8080/"
        },
        "id": "GGMP1zIYeyhY",
        "outputId": "77916a83-51c5-44be-f7b6-e26585446079"
      },
      "execution_count": null,
      "outputs": [
        {
          "output_type": "stream",
          "name": "stdout",
          "text": [
            "10 3\n",
            "13\n",
            "7\n",
            "30\n",
            "3\n",
            "1\n",
            "3.33\n"
          ]
        }
      ]
    },
    {
      "cell_type": "code",
      "source": [
        "# 6045 : [기초-산술연산] 정수 3개 입력받아 합과 평균 출력하기(설명)(py)\n",
        "a, b, c = map(int, input().split())\n",
        "sum = a + b + c\n",
        "print(sum, '%.2f' % (sum/3))"
      ],
      "metadata": {
        "colab": {
          "base_uri": "https://localhost:8080/"
        },
        "id": "C3LVZpBXgQnJ",
        "outputId": "d91e6ff7-ec04-4f7d-85ff-ea7a3c9cec93"
      },
      "execution_count": null,
      "outputs": [
        {
          "output_type": "stream",
          "name": "stdout",
          "text": [
            "1 2 3\n",
            "6 2.00\n"
          ]
        }
      ]
    },
    {
      "cell_type": "code",
      "source": [
        "# 6046 : [기초-비트시프트연산] 정수 1개 입력받아 2배 곱해 출력하기(설명)(py)\n",
        "n = int(input())\n",
        "print(n<<1)"
      ],
      "metadata": {
        "colab": {
          "base_uri": "https://localhost:8080/"
        },
        "id": "6qsDANhTg4A_",
        "outputId": "67f769d6-4039-42bc-b236-10f8c133cba4"
      },
      "execution_count": null,
      "outputs": [
        {
          "output_type": "stream",
          "name": "stdout",
          "text": [
            "1024\n",
            "2048\n"
          ]
        }
      ]
    },
    {
      "cell_type": "code",
      "source": [
        "# 6047 : [기초-비트시프트연산] 2의 거듭제곱 배로 곱해 출력하기(설명)(py)\n",
        "# 입력: 1 3\n",
        "# 출력: 1을 2**3(8)배 출력\n",
        "a, b = map(int, input().split())\n",
        "print(a<<b)"
      ],
      "metadata": {
        "colab": {
          "base_uri": "https://localhost:8080/"
        },
        "id": "WvNsn7nznROS",
        "outputId": "c1139847-7b14-41c1-8b95-af3c9dde21fd"
      },
      "execution_count": null,
      "outputs": [
        {
          "output_type": "stream",
          "name": "stdout",
          "text": [
            "1 3\n",
            "8\n"
          ]
        }
      ]
    },
    {
      "cell_type": "code",
      "source": [
        "# 6048 : [기초-비교연산] 정수 2개 입력받아 비교하기1(설명)(py)\n",
        "a, b = map(int, input().split())\n",
        "print(True if a < b else False)"
      ],
      "metadata": {
        "colab": {
          "base_uri": "https://localhost:8080/"
        },
        "id": "LKjd5xsMnorn",
        "outputId": "068a6846-648e-4873-b4fc-60ac6beefbaf"
      },
      "execution_count": null,
      "outputs": [
        {
          "output_type": "stream",
          "name": "stdout",
          "text": [
            "1 1\n",
            "False\n"
          ]
        }
      ]
    },
    {
      "cell_type": "code",
      "source": [
        "# 6049 : [기초-비교연산] 정수 2개 입력받아 비교하기2(설명)(py)\n",
        "a, b = map(int, input().split())\n",
        "print(True if a == b else False)"
      ],
      "metadata": {
        "colab": {
          "base_uri": "https://localhost:8080/"
        },
        "id": "JLnxTblMoEoc",
        "outputId": "ebc77791-6275-41f8-96d3-6faac3a5826d"
      },
      "execution_count": null,
      "outputs": [
        {
          "output_type": "stream",
          "name": "stdout",
          "text": [
            "0 1\n",
            "False\n"
          ]
        }
      ]
    },
    {
      "cell_type": "code",
      "source": [
        "# 6050 : [기초-비교연산] 정수 2개 입력받아 비교하기3(설명)(py)\n",
        "a, b = map(int, input().split())\n",
        "print(True if b >= a else False)"
      ],
      "metadata": {
        "colab": {
          "base_uri": "https://localhost:8080/"
        },
        "id": "zuqhmOXXoJJg",
        "outputId": "23cb3dc6-1896-4c3f-f853-4a16a187ace4"
      },
      "execution_count": null,
      "outputs": [
        {
          "output_type": "stream",
          "name": "stdout",
          "text": [
            "0 -1\n",
            "False\n"
          ]
        }
      ]
    },
    {
      "cell_type": "code",
      "source": [
        "# 6051 : [기초-비교연산] 정수 2개 입력받아 비교하기4(설명)(py)\n",
        "a, b = map(int, input().split())\n",
        "print(True if a != b else False)"
      ],
      "metadata": {
        "colab": {
          "base_uri": "https://localhost:8080/"
        },
        "id": "FF9vz5rYoUIa",
        "outputId": "d0f823a3-02d5-40a8-f865-fd9e63f3459b"
      },
      "execution_count": null,
      "outputs": [
        {
          "output_type": "stream",
          "name": "stdout",
          "text": [
            "0 1\n",
            "True\n"
          ]
        }
      ]
    }
  ]
}
